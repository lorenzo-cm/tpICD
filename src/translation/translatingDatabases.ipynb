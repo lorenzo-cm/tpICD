{
 "cells": [
  {
   "cell_type": "code",
   "execution_count": null,
   "metadata": {},
   "outputs": [],
   "source": [
    "from googletrans import Translator\n",
    "import pandas as pd\n",
    "\n",
    "translator = Translator()"
   ]
  },
  {
   "cell_type": "code",
   "execution_count": null,
   "metadata": {},
   "outputs": [],
   "source": [
    "#databases foram baixadas e salvas na raiz do projeto em uma pasta 'data' com seus respectivos nomes\n",
    "\n",
    "chatGPTDailyTweets = pd.read_csv('../../data/chatgpt_daily_tweets.csv')\n",
    "ChatGPT = pd.read_csv('../../data/ChatGPT.csv', low_memory=False)\n",
    "chatGPT1 = pd.read_csv('../../data/chatgpt1.csv')\n",
    "TwitterJanMar = pd.read_csv('../../data/TwitterJanMar.csv')"
   ]
  },
  {
   "cell_type": "code",
   "execution_count": null,
   "metadata": {},
   "outputs": [],
   "source": [
    "#funcao para traduzir texto\n",
    "\n",
    "def translateText (text, languageDestiny, languageSource='auto'):\n",
    "    return translator.translate(text, dest=languageDestiny, src=languageSource).text\n",
    "    "
   ]
  },
  {
   "cell_type": "code",
   "execution_count": null,
   "metadata": {},
   "outputs": [],
   "source": [
    "chatGPTDailyTweets.head()"
   ]
  },
  {
   "cell_type": "code",
   "execution_count": null,
   "metadata": {},
   "outputs": [],
   "source": [
    "chatGPTDailyTweets_toEN = chatGPTDailyTweets.query(\"lang != 'en'\")\n",
    "chatGPTDailyTweets_toEN.count()"
   ]
  },
  {
   "cell_type": "code",
   "execution_count": null,
   "metadata": {},
   "outputs": [],
   "source": [
    "from deep_translator import GoogleTranslator\n"
   ]
  },
  {
   "cell_type": "code",
   "execution_count": null,
   "metadata": {},
   "outputs": [],
   "source": [
    "\"\"\" chatGPTDailyTweets_toEN\n",
    "listTranslations = pd.DataFrame()\n",
    "\n",
    "for i in range(15):#len(chatGPTDailyTweets_toEN)):\n",
    "    try:\n",
    "        print(i)\n",
    "        #print(chatGPTDailyTweets_toEN.iloc[i]['text'])\n",
    "        #chatGPTDailyTweets_toEN.iloc[i]['text'] = translateText(chatGPTDailyTweets_toEN.iloc[i]['text'], 'en', chatGPTDailyTweets_toEN.iloc[i]['lang'] ).text\n",
    "        chatGPTDailyTweets_toEN['translated_text'] = chatGPTDailyTweets_toEN.apply(lambda row: translator.translate(row['text'], src=row['lang'], dest='en').text, axis=1)\n",
    "        #chatGPTDailyTweets_toEN[i]['text']=chatGPTDailyTweets_toEN.append(GoogleTranslator(source=chatGPTDailyTweets_toEN.iloc[i]['lang'], target='en').translate(chatGPTDailyTweets_toEN.iloc[i]['text']))\n",
    "    except:\n",
    "        continue \"\"\""
   ]
  },
  {
   "cell_type": "code",
   "execution_count": null,
   "metadata": {},
   "outputs": [],
   "source": [
    "def translate_text(row):\n",
    "    try:\n",
    "        return translator.translate(row['text'], src=row['lang'], dest='en').text\n",
    "    except:\n",
    "        return ''  # Retorna o texto original em caso de erro de tradução\n",
    "\n",
    "# Limita o número de linhas do DataFrame para 15\n",
    "chatGPTDailyTweets_toENTranslated = chatGPTDailyTweets_toEN.head(1000)\n",
    "\n",
    "# Use o método apply para traduzir a coluna 'text' apenas para as linhas limitadas\n",
    "chatGPTDailyTweets_toENTranslated['translated_text'] = chatGPTDailyTweets_toENTranslated.apply(translate_text, axis=1)\n",
    "\n",
    "chatGPTDailyTweets_toENTranslated.to_csv('chatGPTDailyTweets_toENTranslated.csv')\n"
   ]
  },
  {
   "cell_type": "code",
   "execution_count": null,
   "metadata": {},
   "outputs": [],
   "source": [
    "chatGPTDailyTweets_toEN.head()"
   ]
  },
  {
   "cell_type": "code",
   "execution_count": null,
   "metadata": {},
   "outputs": [],
   "source": []
  }
 ],
 "metadata": {
  "kernelspec": {
   "display_name": "tpICD",
   "language": "python",
   "name": "python3"
  },
  "language_info": {
   "codemirror_mode": {
    "name": "ipython",
    "version": 3
   },
   "file_extension": ".py",
   "mimetype": "text/x-python",
   "name": "python",
   "nbconvert_exporter": "python",
   "pygments_lexer": "ipython3",
   "version": "3.10.11"
  },
  "orig_nbformat": 4
 },
 "nbformat": 4,
 "nbformat_minor": 2
}
