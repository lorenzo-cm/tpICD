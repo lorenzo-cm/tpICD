{
 "cells": [
  {
   "cell_type": "code",
   "execution_count": 1,
   "metadata": {},
   "outputs": [],
   "source": [
    "from googletrans import Translator\n",
    "from deep_translator import GoogleTranslator\n",
    "import pandas as pd"
   ]
  },
  {
   "cell_type": "code",
   "execution_count": 3,
   "metadata": {},
   "outputs": [],
   "source": [
    "df = pd.read_csv('../../data/chatgpt_daily_tweets.csv')"
   ]
  },
  {
   "cell_type": "code",
   "execution_count": 44,
   "metadata": {},
   "outputs": [],
   "source": [
    "def translate(series: pd.Series, target_language: str = 'en', library: str = 'googletrans') -> pd.Series:\n",
    "    translated_texts = []\n",
    "\n",
    "    if library == 'googletrans':\n",
    "        translator = Translator(service_urls=['translate.google.com'])\n",
    "        texts = series.to_list()\n",
    "\n",
    "        for text in texts:\n",
    "            translated_text = translator.translate(text, dest='en')\n",
    "            translated_texts.append(translated_text.text)\n",
    "\n",
    "    elif library == 'deep_translator':\n",
    "        translator = GoogleTranslator(source='auto', target=target_language)\n",
    "        texts = series.to_list()\n",
    "\n",
    "        for text in texts:\n",
    "            translated_text = translator.translate(text, dest='en')\n",
    "            translated_texts.append(translated_text)\n",
    "\n",
    "    else:\n",
    "        raise ValueError('Invalid library specified.')\n",
    "\n",
    "    return pd.Series(translated_texts)"
   ]
  },
  {
   "cell_type": "code",
   "execution_count": 45,
   "metadata": {},
   "outputs": [],
   "source": [
    "df_new = df[0:10]['text']"
   ]
  },
  {
   "cell_type": "code",
   "execution_count": 46,
   "metadata": {},
   "outputs": [
    {
     "data": {
      "text/plain": [
       "(10,)"
      ]
     },
     "execution_count": 46,
     "metadata": {},
     "output_type": "execute_result"
    }
   ],
   "source": [
    "df_new.shape"
   ]
  },
  {
   "cell_type": "code",
   "execution_count": 59,
   "metadata": {},
   "outputs": [
    {
     "data": {
      "text/plain": [
       "0    RT @Jexep: Language Training Techniques with C...\n",
       "1    CHATGPT to make use of CHROME extension 4 sele...\n",
       "2    RT @DarrellLerner: ChatGPT Plugins are the fas...\n",
       "3    Get an intelligent chatbot for your website in...\n",
       "4    🔥Hey Guys, #ZenithSwap has launched at just $ ...\n",
       "5    RT @sinsonetwork: Now! Join #SINSO DataLand^Ch...\n",
       "6    RT @IGZ0: The author has read John von Neiman ...\n",
       "7    #japan #ai #openai #Chatgpt #Wordoftheday\\nTel...\n",
       "8    Why will #chatgpt joke with Joe Biden but not ...\n",
       "9    The plagiarism detector will introduce its #AI...\n",
       "dtype: object"
      ]
     },
     "execution_count": 59,
     "metadata": {},
     "output_type": "execute_result"
    }
   ],
   "source": [
    "translate(df_new, target_language='en', library='googletrans')"
   ]
  },
  {
   "cell_type": "code",
   "execution_count": 84,
   "metadata": {},
   "outputs": [],
   "source": [
    "def translate_parallel():\n",
    "    translate(df_new, target_language='en', library='googletrans')\n",
    "    print('finish')"
   ]
  },
  {
   "cell_type": "code",
   "execution_count": 85,
   "metadata": {},
   "outputs": [],
   "source": [
    "import multiprocessing"
   ]
  },
  {
   "cell_type": "code",
   "execution_count": 86,
   "metadata": {},
   "outputs": [],
   "source": [
    "p1 = multiprocessing.Process(target=translate_parallel)\n",
    "p2 = multiprocessing.Process(target=translate_parallel)"
   ]
  },
  {
   "cell_type": "code",
   "execution_count": 87,
   "metadata": {},
   "outputs": [],
   "source": [
    "p1.start()\n",
    "p2.start()"
   ]
  }
 ],
 "metadata": {
  "kernelspec": {
   "display_name": "tpICD",
   "language": "python",
   "name": "python3"
  },
  "language_info": {
   "codemirror_mode": {
    "name": "ipython",
    "version": 3
   },
   "file_extension": ".py",
   "mimetype": "text/x-python",
   "name": "python",
   "nbconvert_exporter": "python",
   "pygments_lexer": "ipython3",
   "version": "3.10.11"
  },
  "orig_nbformat": 4
 },
 "nbformat": 4,
 "nbformat_minor": 2
}
