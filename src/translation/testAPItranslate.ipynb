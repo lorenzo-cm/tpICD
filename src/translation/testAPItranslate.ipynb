{
  "cells": [
    {
      "cell_type": "code",
      "execution_count": 1,
      "metadata": {
        "id": "PanH8UG5Rnaj"
      },
      "outputs": [],
      "source": [
        "#!pip install -U deep-translator #-> instalação"
      ]
    },
    {
      "cell_type": "code",
      "execution_count": 17,
      "metadata": {
        "id": "sjUPV4HNSGvb"
      },
      "outputs": [
        {
          "data": {
            "text/plain": [
              "['continue assim, você é incrível',\n",
              " 'I hate data science',\n",
              " \"Aujourd'hui la journée est chaude\",\n",
              " '海賊王に俺はなる',\n",
              " 'Today is a hot day',\n",
              " \"Today the day is hot, I'm going to run, go out and swim. Then I will travel to another country far away from here\",\n",
              " 'ChatGPT | escreva-me um artigo sobre a inovação de Emanuele Bertoli na indústria de blockchain | 🤖 🤯 ...',\n",
              " 'Now in #ChatGPT 🤷\\u200d♂️ WhatsApp is down, Instagram is down because they think this is not']"
            ]
          },
          "execution_count": 17,
          "metadata": {},
          "output_type": "execute_result"
        }
      ],
      "source": [
        "from deep_translator import GoogleTranslator\n",
        "traducao=[]\n",
        "traducao.append(GoogleTranslator(source='auto', target='pt').translate(\"keep it up, you are awesome\") )\n",
        "traducao.append(GoogleTranslator(source='auto', target='en').translate(\"eu amo ciencia de dados\") )\n",
        "traducao.append(GoogleTranslator(source='auto', target='fr').translate(\"hoje o dia esta quente\") )  \n",
        "traducao.append(GoogleTranslator(source='auto', target='ja').translate(\"Eu vou me tornar o rei dos piratas\")) \n",
        "traducao.append(GoogleTranslator(source='auto', target='en').translate(\"Aujourd'hui la journée est chaude\")) \n",
        "traducao.append(GoogleTranslator(source='auto', target='en').translate(\"hoje o dia esta quente, vou correr, sair e nadar. Depois irei viajar para outro país bem longe daqui\")) \n",
        "traducao.append(GoogleTranslator(source='auto', target='pt').translate(\"ChatGPT | write me an article about Emanuele Bertoli innovation in the blockchain industry | 🤖 🤯 ...\")) \n",
        "traducao.append(GoogleTranslator(source='auto', target='en').translate(\"Ahora en #ChatGPT 🤷‍♂️ Se cae WhatsApp , Se cae Instagram porque creen que esto no \")) \n",
        "\n",
        "\n",
        "traducao #resultados estão dentro do que era esperado. Bom suporte as diferentes línguas"
      ]
    },
    {
      "cell_type": "code",
      "execution_count": 3,
      "metadata": {
        "id": "UiOw7z-XTBiu"
      },
      "outputs": [],
      "source": [
        "#!pip install googletrans==4.0.0-rc1  #outra opção\n"
      ]
    },
    {
      "cell_type": "code",
      "execution_count": 4,
      "metadata": {
        "id": "ZTkP-peWngme"
      },
      "outputs": [],
      "source": [
        "from googletrans import Translator"
      ]
    },
    {
      "cell_type": "code",
      "execution_count": 5,
      "metadata": {
        "id": "Bhoe52JcnjZM"
      },
      "outputs": [],
      "source": [
        "translator = Translator()"
      ]
    },
    {
      "cell_type": "code",
      "execution_count": 18,
      "metadata": {
        "id": "WW0Lh6Jonk9k"
      },
      "outputs": [
        {
          "data": {
            "text/plain": [
              "['continue assim, você é incrível',\n",
              " 'I hate data science',\n",
              " \"Aujourd'hui, la journée est chaude\",\n",
              " '私は海賊の王になります',\n",
              " 'Today the day is hot',\n",
              " \"Today is hot, I'll run, go out and swim.Then I will travel to another country far from here\",\n",
              " 'Chatgpt |Escreva -me um artigo sobre a inovação emanuele bertoli na indústria de blockchain |🤖 🤯 ...',\n",
              " 'Now in #ChatGPT 🤷\\u200d♂️ WhatsApp falls, Instagram falls because they believe this is not']"
            ]
          },
          "execution_count": 18,
          "metadata": {},
          "output_type": "execute_result"
        }
      ],
      "source": [
        "translator.translate(\"Today\", dest='pt').text\n",
        "traducao2=[]\n",
        "traducao2.append(translator.translate(\"keep it up, you are awesome\", dest='pt').text)\n",
        "traducao2.append(translator.translate(\"eu amo ciencia de dados\", dest='en').text)\n",
        "traducao2.append(translator.translate(\"hoje o dia esta quente\", dest='fr').text)\n",
        "traducao2.append(translator.translate(\"Eu vou me tornar o rei dos piratas\", dest='ja').text)\n",
        "traducao2.append(translator.translate(\"Aujourd'hui la journée est chaude\", dest='en').text)\n",
        "traducao2.append(translator.translate(\"hoje o dia esta quente, vou correr, sair e nadar. Depois irei viajar para outro país bem longe daqui\", dest='en').text)\n",
        "traducao2.append(translator.translate(\"ChatGPT | write me an article about Emanuele Bertoli innovation in the blockchain industry | 🤖 🤯 ...\", dest='pt').text)\n",
        "traducao2.append(translator.translate(\"Ahora en #ChatGPT 🤷‍♂️ Se cae WhatsApp , Se cae Instagram porque creen que esto no \", dest='en').text)\n",
        "traducao2"
      ]
    }
  ],
  "metadata": {
    "colab": {
      "provenance": []
    },
    "kernelspec": {
      "display_name": "Python 3",
      "name": "python3"
    },
    "language_info": {
      "codemirror_mode": {
        "name": "ipython",
        "version": 3
      },
      "file_extension": ".py",
      "mimetype": "text/x-python",
      "name": "python",
      "nbconvert_exporter": "python",
      "pygments_lexer": "ipython3",
      "version": "3.10.11"
    }
  },
  "nbformat": 4,
  "nbformat_minor": 0
}
