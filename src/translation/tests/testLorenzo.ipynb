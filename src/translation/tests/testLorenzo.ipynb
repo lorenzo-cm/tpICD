{
 "cells": [
  {
   "cell_type": "code",
   "execution_count": 1,
   "metadata": {},
   "outputs": [],
   "source": [
    "from googletrans import Translator\n",
    "from deep_translator import GoogleTranslator\n",
    "import pandas as pd"
   ]
  },
  {
   "cell_type": "code",
   "execution_count": 41,
   "metadata": {},
   "outputs": [],
   "source": [
    "df = pd.read_csv('../../data/chatgpt_daily_tweets.csv')"
   ]
  },
  {
   "cell_type": "code",
   "execution_count": 3,
   "metadata": {},
   "outputs": [],
   "source": [
    "def translate(series: pd.Series, target_language: str = 'en', library: str = 'googletrans') -> pd.Series:\n",
    "    translated_texts = []\n",
    "\n",
    "    if library == 'googletrans':\n",
    "        translator = Translator()\n",
    "        texts = series.to_list()\n",
    "\n",
    "        for text in texts:\n",
    "            translated_text = translator.translate(text, dest='en')\n",
    "            translated_texts.append(translated_text.text)\n",
    "\n",
    "    elif library == 'deep_translator':\n",
    "        translator = GoogleTranslator(source='auto', target=target_language)\n",
    "        texts = series.to_list()\n",
    "\n",
    "        for text in texts:\n",
    "            translated_text = translator.translate(text, dest='en')\n",
    "            translated_texts.append(translated_text)\n",
    "\n",
    "    else:\n",
    "        raise ValueError('Invalid library specified.')\n",
    "\n",
    "    return pd.Series(translated_texts)"
   ]
  },
  {
   "cell_type": "code",
   "execution_count": 42,
   "metadata": {},
   "outputs": [],
   "source": [
    "df_new = df[59000:59100]['text']"
   ]
  },
  {
   "cell_type": "code",
   "execution_count": 5,
   "metadata": {},
   "outputs": [
    {
     "data": {
      "text/plain": [
       "(10,)"
      ]
     },
     "execution_count": 5,
     "metadata": {},
     "output_type": "execute_result"
    }
   ],
   "source": [
    "df_new.shape"
   ]
  },
  {
   "cell_type": "code",
   "execution_count": 50,
   "metadata": {},
   "outputs": [
    {
     "data": {
      "text/plain": [
       "23371"
      ]
     },
     "execution_count": 50,
     "metadata": {},
     "output_type": "execute_result"
    }
   ],
   "source": [
    "(df['text'] == 'Daniel Torres P').sum()"
   ]
  },
  {
   "cell_type": "code",
   "execution_count": 7,
   "metadata": {},
   "outputs": [],
   "source": [
    "def translate2(index, series_list):\n",
    "    series = series_list[index]\n",
    "\n",
    "    translated_texts = []\n",
    "\n",
    "    translator = GoogleTranslator(source='auto', target='en')\n",
    "    texts = series.to_list()\n",
    "\n",
    "    for text in texts:\n",
    "        try:\n",
    "            translated_text = translator.translate(text)\n",
    "            translated_texts.append(translated_text)\n",
    "        except:\n",
    "            continue\n",
    "\n",
    "    return translated_texts"
   ]
  },
  {
   "cell_type": "code",
   "execution_count": 8,
   "metadata": {},
   "outputs": [
    {
     "data": {
      "text/plain": [
       "['RT @jexep: Techniques for practicing language with ChatGPT that I tried (I tried English-Japanese, English-German) use the same method. The results are satisfactory, just…',\n",
       " '4 Chrome extensions that can make more use of ChatGPT https://t.co/hfacFe570t',\n",
       " 'RT @DarrellLerner: ChatGPT Plugins are the fastest way to get rich in 2023. \\n\\nI’ve created a step-by-step guide showing you how to earn $10…',\n",
       " \"Get an intelligent chatbot for your website in minutes with Chatbase AI. Train ChatGPT on your data and let it answer any question your users have. Simply upload a document or link and add the chat widget - it's that easy!\\nMake Money using AI: https://t.co/yLHEqn4w9T https://t.co/ba54JvoRsM\",\n",
       " '🔥Hey Guys, #ZenithSwap has launched at just $ 55,000 USD Marketcap. The ChatGPT of DEX - Reimagining DeFi with AI-Powered Yield Farming. Now at 4X. Lot of up potential at such low marketcap.🔥😇 $ARB $ZSP #Arbitrum https://t.co/9VWYtYzAJD',\n",
       " 'RT @sinsonetwork: Now! Join #SINSO DataLand^ChatGPT #Airdrop!\\n📅3.23-4.6\\n📌Tasks\\n①Log in to&lt;https://t.co/Hlwqa7HG40&gt;\\n②Try SINSO #ChatGPT&amp; twe…',\n",
       " 'RT @igz0: I\\'ve read a book by the author John von Neumann, and it\\'s logically reliable because the brain processes information \"statistically\" instead of \"arithmically\" like a computer does. It\\'s amazing that I saw through it in 1958.\\n\\nEven if modern people give Neumann a lecture on the mechanism of ChatGPT...',\n",
       " '#japan #ai #openai #chatgpt #wordoftheday\\ntell me\\nOshietekun\\nsomeone who asks others for answers without first researching by himself',\n",
       " 'Why will #ChatGPT joke with Joe Biden but not with Xi Jinping? Experienced the same with #midjourney. https://t.co/hcJInBvYMG',\n",
       " 'The plagiarism detector will introduce its #AI detection tool tomorrow, hoping to protect academic integrity in a post-#ChatGPT world. \\n\\nThe\\xa0speedy launch and lack of an opt-out have #academics worried.\\n\\nAn important piece @liamhknox for @insidehighered \\n\\nhttps://t.co/pq7DB5r9An']"
      ]
     },
     "execution_count": 8,
     "metadata": {},
     "output_type": "execute_result"
    }
   ],
   "source": [
    "series = []\n",
    "series.append(df_new)\n",
    "translate2(0, series)"
   ]
  },
  {
   "cell_type": "code",
   "execution_count": 31,
   "metadata": {},
   "outputs": [],
   "source": [
    "pd.Series(translate2(0, series), name='text').to_csv(f'./translationsLorenzo/{0}translation.csv', index=False)"
   ]
  },
  {
   "cell_type": "code",
   "execution_count": 32,
   "metadata": {},
   "outputs": [],
   "source": [
    "translated_series = pd.read_csv('translationsLorenzo/0translation.csv')"
   ]
  },
  {
   "cell_type": "code",
   "execution_count": 33,
   "metadata": {},
   "outputs": [
    {
     "data": {
      "text/html": [
       "<div>\n",
       "<style scoped>\n",
       "    .dataframe tbody tr th:only-of-type {\n",
       "        vertical-align: middle;\n",
       "    }\n",
       "\n",
       "    .dataframe tbody tr th {\n",
       "        vertical-align: top;\n",
       "    }\n",
       "\n",
       "    .dataframe thead th {\n",
       "        text-align: right;\n",
       "    }\n",
       "</style>\n",
       "<table border=\"1\" class=\"dataframe\">\n",
       "  <thead>\n",
       "    <tr style=\"text-align: right;\">\n",
       "      <th></th>\n",
       "      <th>text</th>\n",
       "    </tr>\n",
       "  </thead>\n",
       "  <tbody>\n",
       "    <tr>\n",
       "      <th>0</th>\n",
       "      <td>RT @jexep: Techniques for practicing language ...</td>\n",
       "    </tr>\n",
       "    <tr>\n",
       "      <th>1</th>\n",
       "      <td>4 Chrome extensions that can make more use of ...</td>\n",
       "    </tr>\n",
       "    <tr>\n",
       "      <th>2</th>\n",
       "      <td>RT @DarrellLerner: ChatGPT Plugins are the fas...</td>\n",
       "    </tr>\n",
       "    <tr>\n",
       "      <th>3</th>\n",
       "      <td>Get an intelligent chatbot for your website in...</td>\n",
       "    </tr>\n",
       "    <tr>\n",
       "      <th>4</th>\n",
       "      <td>🔥Hey Guys, #ZenithSwap has launched at just $ ...</td>\n",
       "    </tr>\n",
       "  </tbody>\n",
       "</table>\n",
       "</div>"
      ],
      "text/plain": [
       "                                                text\n",
       "0  RT @jexep: Techniques for practicing language ...\n",
       "1  4 Chrome extensions that can make more use of ...\n",
       "2  RT @DarrellLerner: ChatGPT Plugins are the fas...\n",
       "3  Get an intelligent chatbot for your website in...\n",
       "4  🔥Hey Guys, #ZenithSwap has launched at just $ ..."
      ]
     },
     "execution_count": 33,
     "metadata": {},
     "output_type": "execute_result"
    }
   ],
   "source": [
    "translated_series.head()"
   ]
  },
  {
   "cell_type": "code",
   "execution_count": 34,
   "metadata": {},
   "outputs": [
    {
     "data": {
      "text/plain": [
       "(10, 1)"
      ]
     },
     "execution_count": 34,
     "metadata": {},
     "output_type": "execute_result"
    }
   ],
   "source": [
    "translated_series.shape"
   ]
  },
  {
   "cell_type": "code",
   "execution_count": 37,
   "metadata": {},
   "outputs": [
    {
     "data": {
      "text/html": [
       "<div>\n",
       "<style scoped>\n",
       "    .dataframe tbody tr th:only-of-type {\n",
       "        vertical-align: middle;\n",
       "    }\n",
       "\n",
       "    .dataframe tbody tr th {\n",
       "        vertical-align: top;\n",
       "    }\n",
       "\n",
       "    .dataframe thead th {\n",
       "        text-align: right;\n",
       "    }\n",
       "</style>\n",
       "<table border=\"1\" class=\"dataframe\">\n",
       "  <thead>\n",
       "    <tr style=\"text-align: right;\">\n",
       "      <th></th>\n",
       "      <th>text</th>\n",
       "    </tr>\n",
       "  </thead>\n",
       "  <tbody>\n",
       "    <tr>\n",
       "      <th>0</th>\n",
       "      <td>RT @Prolehre: Prompt engineering for universit...</td>\n",
       "    </tr>\n",
       "    <tr>\n",
       "      <th>1</th>\n",
       "      <td>Don't say \"ignore\" me.\\nMy conversation with c...</td>\n",
       "    </tr>\n",
       "    <tr>\n",
       "      <th>2</th>\n",
       "      <td>RT @careersherpa: How To Leverage AI And Use C...</td>\n",
       "    </tr>\n",
       "    <tr>\n",
       "      <th>3</th>\n",
       "      <td>RT @Zenith_Swap: We are listing on our own exc...</td>\n",
       "    </tr>\n",
       "    <tr>\n",
       "      <th>4</th>\n",
       "      <td>RT @kunukunu: Mr. ChatGPT, it's disgusting tha...</td>\n",
       "    </tr>\n",
       "  </tbody>\n",
       "</table>\n",
       "</div>"
      ],
      "text/plain": [
       "                                                text\n",
       "0  RT @Prolehre: Prompt engineering for universit...\n",
       "1  Don't say \"ignore\" me.\\nMy conversation with c...\n",
       "2  RT @careersherpa: How To Leverage AI And Use C...\n",
       "3  RT @Zenith_Swap: We are listing on our own exc...\n",
       "4  RT @kunukunu: Mr. ChatGPT, it's disgusting tha..."
      ]
     },
     "execution_count": 37,
     "metadata": {},
     "output_type": "execute_result"
    }
   ],
   "source": [
    "translated_series2 = pd.read_csv('translationsLorenzo/19translation.csv')\n",
    "translated_series2.head()"
   ]
  },
  {
   "cell_type": "code",
   "execution_count": 38,
   "metadata": {},
   "outputs": [
    {
     "data": {
      "text/plain": [
       "(10, 1)"
      ]
     },
     "execution_count": 38,
     "metadata": {},
     "output_type": "execute_result"
    }
   ],
   "source": [
    "translated_series2.shape"
   ]
  }
 ],
 "metadata": {
  "kernelspec": {
   "display_name": "tpICD",
   "language": "python",
   "name": "python3"
  },
  "language_info": {
   "codemirror_mode": {
    "name": "ipython",
    "version": 3
   },
   "file_extension": ".py",
   "mimetype": "text/x-python",
   "name": "python",
   "nbconvert_exporter": "python",
   "pygments_lexer": "ipython3",
   "version": "3.10.11"
  },
  "orig_nbformat": 4
 },
 "nbformat": 4,
 "nbformat_minor": 2
}
