{
  "cells": [
    {
      "cell_type": "code",
      "execution_count": 1,
      "metadata": {
        "id": "PanH8UG5Rnaj"
      },
      "outputs": [],
      "source": [
        "#!pip install -U deep-translator #-> instalação"
      ]
    },
    {
      "cell_type": "code",
      "execution_count": 1,
      "metadata": {
        "id": "sjUPV4HNSGvb"
      },
      "outputs": [
        {
          "data": {
            "text/plain": [
              "['continue assim, você é incrível',\n",
              " 'I love data science',\n",
              " \"Aujourd'hui la journée est chaude\",\n",
              " '海賊王に俺はなる',\n",
              " 'Today is a hot day',\n",
              " \"Today the day is hot, I'm going to run, go out and swim. Then I will travel to another country far away from here\",\n",
              " 'ChatGPT | escreva-me um artigo sobre a inovação de Emanuele Bertoli na indústria de blockchain | 🤖 🤯 ...',\n",
              " 'Now in #ChatGPT 🤷\\u200d♂️ WhatsApp is down, Instagram is down because they think this is not']"
            ]
          },
          "execution_count": 1,
          "metadata": {},
          "output_type": "execute_result"
        }
      ],
      "source": [
        "from deep_translator import GoogleTranslator\n",
        "traducao=[]\n",
        "traducao.append(GoogleTranslator(source='auto', target='pt').translate(\"keep it up, you are awesome\") )\n",
        "traducao.append(GoogleTranslator(source='auto', target='en').translate(\"eu amo ciencia de dados\") )\n",
        "traducao.append(GoogleTranslator(source='auto', target='fr').translate(\"hoje o dia esta quente\") )  \n",
        "traducao.append(GoogleTranslator(source='auto', target='ja').translate(\"Eu vou me tornar o rei dos piratas\")) \n",
        "traducao.append(GoogleTranslator(source='auto', target='en').translate(\"Aujourd'hui la journée est chaude\")) \n",
        "traducao.append(GoogleTranslator(source='auto', target='en').translate(\"hoje o dia esta quente, vou correr, sair e nadar. Depois irei viajar para outro país bem longe daqui\")) \n",
        "traducao.append(GoogleTranslator(source='auto', target='pt').translate(\"ChatGPT | write me an article about Emanuele Bertoli innovation in the blockchain industry | 🤖 🤯 ...\")) \n",
        "traducao.append(GoogleTranslator(source='auto', target='en').translate(\"Ahora en #ChatGPT 🤷‍♂️ Se cae WhatsApp , Se cae Instagram porque creen que esto no \")) \n",
        "\n",
        "\n",
        "traducao #resultados estão dentro do que era esperado. Bom suporte as diferentes línguas"
      ]
    },
    {
      "cell_type": "code",
      "execution_count": 3,
      "metadata": {
        "id": "UiOw7z-XTBiu"
      },
      "outputs": [],
      "source": [
        "#!pip install googletrans==4.0.0-rc1  #outra opção\n"
      ]
    },
    {
      "cell_type": "code",
      "execution_count": 1,
      "metadata": {
        "id": "ZTkP-peWngme"
      },
      "outputs": [],
      "source": [
        "from googletrans import Translator"
      ]
    },
    {
      "cell_type": "code",
      "execution_count": 2,
      "metadata": {
        "id": "Bhoe52JcnjZM"
      },
      "outputs": [],
      "source": [
        "translator = Translator()"
      ]
    },
    {
      "cell_type": "code",
      "execution_count": 3,
      "metadata": {
        "id": "WW0Lh6Jonk9k"
      },
      "outputs": [
        {
          "ename": "AttributeError",
          "evalue": "'Translator' object has no attribute 'raise_Exception'",
          "output_type": "error",
          "traceback": [
            "\u001b[1;31m---------------------------------------------------------------------------\u001b[0m",
            "\u001b[1;31mAttributeError\u001b[0m                            Traceback (most recent call last)",
            "Cell \u001b[1;32mIn[3], line 1\u001b[0m\n\u001b[1;32m----> 1\u001b[0m translator\u001b[39m.\u001b[39;49mtranslate(\u001b[39m\"\u001b[39;49m\u001b[39mToday\u001b[39;49m\u001b[39m\"\u001b[39;49m, dest\u001b[39m=\u001b[39;49m\u001b[39m'\u001b[39;49m\u001b[39mpt\u001b[39;49m\u001b[39m'\u001b[39;49m)\u001b[39m.\u001b[39mtext\n\u001b[0;32m      2\u001b[0m traducao2\u001b[39m=\u001b[39m[]\n\u001b[0;32m      3\u001b[0m traducao2\u001b[39m.\u001b[39mappend(translator\u001b[39m.\u001b[39mtranslate(\u001b[39m\"\u001b[39m\u001b[39mkeep it up, you are awesome\u001b[39m\u001b[39m\"\u001b[39m, dest\u001b[39m=\u001b[39m\u001b[39m'\u001b[39m\u001b[39mpt\u001b[39m\u001b[39m'\u001b[39m)\u001b[39m.\u001b[39mtext)\n",
            "File \u001b[1;32mc:\\Users\\Lorenzo\\anaconda3\\envs\\tpICD\\lib\\site-packages\\googletrans\\client.py:194\u001b[0m, in \u001b[0;36mTranslator.translate\u001b[1;34m(self, text, dest, src)\u001b[0m\n\u001b[0;32m    191\u001b[0m         \u001b[39mraise\u001b[39;00m \u001b[39mValueError\u001b[39;00m(\u001b[39m'\u001b[39m\u001b[39minvalid destination language\u001b[39m\u001b[39m'\u001b[39m)\n\u001b[0;32m    193\u001b[0m origin \u001b[39m=\u001b[39m text\n\u001b[1;32m--> 194\u001b[0m data, response \u001b[39m=\u001b[39m \u001b[39mself\u001b[39;49m\u001b[39m.\u001b[39;49m_translate(text, dest, src)\n\u001b[0;32m    196\u001b[0m token_found \u001b[39m=\u001b[39m \u001b[39mFalse\u001b[39;00m\n\u001b[0;32m    197\u001b[0m square_bracket_counts \u001b[39m=\u001b[39m [\u001b[39m0\u001b[39m, \u001b[39m0\u001b[39m]\n",
            "File \u001b[1;32mc:\\Users\\Lorenzo\\anaconda3\\envs\\tpICD\\lib\\site-packages\\googletrans\\client.py:122\u001b[0m, in \u001b[0;36mTranslator._translate\u001b[1;34m(self, text, dest, src)\u001b[0m\n\u001b[0;32m    112\u001b[0m params \u001b[39m=\u001b[39m {\n\u001b[0;32m    113\u001b[0m     \u001b[39m'\u001b[39m\u001b[39mrpcids\u001b[39m\u001b[39m'\u001b[39m: RPC_ID,\n\u001b[0;32m    114\u001b[0m     \u001b[39m'\u001b[39m\u001b[39mbl\u001b[39m\u001b[39m'\u001b[39m: \u001b[39m'\u001b[39m\u001b[39mboq_translate-webserver_20201207.13_p0\u001b[39m\u001b[39m'\u001b[39m,\n\u001b[1;32m   (...)\u001b[0m\n\u001b[0;32m    118\u001b[0m     \u001b[39m'\u001b[39m\u001b[39mrt\u001b[39m\u001b[39m'\u001b[39m: \u001b[39m'\u001b[39m\u001b[39mc\u001b[39m\u001b[39m'\u001b[39m,\n\u001b[0;32m    119\u001b[0m }\n\u001b[0;32m    120\u001b[0m r \u001b[39m=\u001b[39m \u001b[39mself\u001b[39m\u001b[39m.\u001b[39mclient\u001b[39m.\u001b[39mpost(url, params\u001b[39m=\u001b[39mparams, data\u001b[39m=\u001b[39mdata)\n\u001b[1;32m--> 122\u001b[0m \u001b[39mif\u001b[39;00m r\u001b[39m.\u001b[39mstatus_code \u001b[39m!=\u001b[39m \u001b[39m200\u001b[39m \u001b[39mand\u001b[39;00m \u001b[39mself\u001b[39;49m\u001b[39m.\u001b[39;49mraise_Exception:\n\u001b[0;32m    123\u001b[0m     \u001b[39mraise\u001b[39;00m \u001b[39mException\u001b[39;00m(\u001b[39m'\u001b[39m\u001b[39mUnexpected status code \u001b[39m\u001b[39m\"\u001b[39m\u001b[39m{}\u001b[39;00m\u001b[39m\"\u001b[39m\u001b[39m from \u001b[39m\u001b[39m{}\u001b[39;00m\u001b[39m'\u001b[39m\u001b[39m.\u001b[39mformat(\n\u001b[0;32m    124\u001b[0m         r\u001b[39m.\u001b[39mstatus_code, \u001b[39mself\u001b[39m\u001b[39m.\u001b[39mservice_urls))\n\u001b[0;32m    126\u001b[0m \u001b[39mreturn\u001b[39;00m r\u001b[39m.\u001b[39mtext, r\n",
            "\u001b[1;31mAttributeError\u001b[0m: 'Translator' object has no attribute 'raise_Exception'"
          ]
        }
      ],
      "source": [
        "translator.translate(\"Today\", dest='pt').text\n",
        "traducao2=[]\n",
        "traducao2.append(translator.translate(\"keep it up, you are awesome\", dest='pt').text)\n",
        "traducao2.append(translator.translate(\"eu amo ciencia de dados\", dest='en').text)\n",
        "traducao2.append(translator.translate(\"hoje o dia esta quente\", dest='fr').text)\n",
        "traducao2.append(translator.translate(\"Eu vou me tornar o rei dos piratas\", dest='ja').text)\n",
        "traducao2.append(translator.translate(\"Aujourd'hui la journée est chaude\", dest='en').text)\n",
        "traducao2.append(translator.translate(\"hoje o dia esta quente, vou correr, sair e nadar. Depois irei viajar para outro país bem longe daqui\", dest='en').text)\n",
        "traducao2.append(translator.translate(\"ChatGPT | write me an article about Emanuele Bertoli innovation in the blockchain industry | 🤖 🤯 ...\", dest='pt').text)\n",
        "traducao2.append(translator.translate(\"Ahora en #ChatGPT 🤷‍♂️ Se cae WhatsApp , Se cae Instagram porque creen que esto no \", dest='en').text)\n",
        "traducao2"
      ]
    }
  ],
  "metadata": {
    "colab": {
      "provenance": []
    },
    "kernelspec": {
      "display_name": "Python 3",
      "name": "python3"
    },
    "language_info": {
      "codemirror_mode": {
        "name": "ipython",
        "version": 3
      },
      "file_extension": ".py",
      "mimetype": "text/x-python",
      "name": "python",
      "nbconvert_exporter": "python",
      "pygments_lexer": "ipython3",
      "version": "3.10.11"
    }
  },
  "nbformat": 4,
  "nbformat_minor": 0
}
