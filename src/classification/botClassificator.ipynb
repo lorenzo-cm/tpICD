{
 "cells": [
  {
   "cell_type": "code",
   "execution_count": 71,
   "metadata": {},
   "outputs": [],
   "source": [
    "#Estudo de caso 5 do curso de Introduação à Ciência de Dados Aplicada à Cibersegurança\n",
    "\n",
    "#Importando bibliotecas básicas\n",
    "\n",
    "import numpy as np # vetores e matrizes \n",
    "import pandas as pd # processamento dos dados, arquivo CSV I/O (e.g. pd.read_csv)\n",
    "\n",
    "# Input data files are available in the read-only \"../input/\" directory\n",
    "# For example, running this (by clicking run or pressing Shift+Enter) will list all files under the input directory\n",
    "\n",
    "import os\n",
    "for dirname, _, filenames in os.walk('/kaggle/input'):\n",
    "    for filename in filenames:\n",
    "        print(os.path.join(dirname, filename))\n",
    "\n",
    "# You can write up to 20GB to the current directory (/kaggle/working/) that gets preserved as output when you create a version using \"Save & Run All\" \n",
    "# You can also write temporary files to /kaggle/temp/, but they won't be saved outside of the current session"
   ]
  },
  {
   "cell_type": "code",
   "execution_count": 72,
   "metadata": {},
   "outputs": [],
   "source": [
    "import re\n",
    "import nltk\n",
    "from nltk.corpus import stopwords\n",
    "from nltk.stem import PorterStemmer, WordNetLemmatizer\n",
    "from sklearn.feature_extraction.text import CountVectorizer, TfidfVectorizer\n",
    "from sklearn.metrics import confusion_matrix, accuracy_score\n",
    "from sklearn.model_selection import train_test_split\n",
    "from sklearn.linear_model import LogisticRegression\n",
    "from sklearn.svm import SVC\n",
    "from sklearn.naive_bayes import MultinomialNB\n",
    "from sklearn.tree import DecisionTreeClassifier\n",
    "from sklearn.neighbors import KNeighborsClassifier\n",
    "from sklearn.ensemble import RandomForestClassifier\n",
    "from sklearn import metrics\n",
    "import matplotlib.pyplot as plt"
   ]
  },
  {
   "cell_type": "code",
   "execution_count": 73,
   "metadata": {},
   "outputs": [],
   "source": [
    "labelsDf = pd.read_csv(\"../../chatgpt_daily_tweets.csv\")"
   ]
  },
  {
   "cell_type": "code",
   "execution_count": 74,
   "metadata": {},
   "outputs": [
    {
     "data": {
      "text/html": [
       "<div>\n",
       "<style scoped>\n",
       "    .dataframe tbody tr th:only-of-type {\n",
       "        vertical-align: middle;\n",
       "    }\n",
       "\n",
       "    .dataframe tbody tr th {\n",
       "        vertical-align: top;\n",
       "    }\n",
       "\n",
       "    .dataframe thead th {\n",
       "        text-align: right;\n",
       "    }\n",
       "</style>\n",
       "<table border=\"1\" class=\"dataframe\">\n",
       "  <thead>\n",
       "    <tr style=\"text-align: right;\">\n",
       "      <th></th>\n",
       "      <th>tweet_id</th>\n",
       "      <th>tweet_created</th>\n",
       "      <th>tweet_extracted</th>\n",
       "      <th>text</th>\n",
       "      <th>lang</th>\n",
       "      <th>user_id</th>\n",
       "      <th>user_name</th>\n",
       "      <th>user_username</th>\n",
       "      <th>user_location</th>\n",
       "      <th>user_description</th>\n",
       "      <th>user_created</th>\n",
       "      <th>user_followers_count</th>\n",
       "      <th>user_following_count</th>\n",
       "      <th>user_tweet_count</th>\n",
       "      <th>user_verified</th>\n",
       "      <th>source</th>\n",
       "      <th>retweet_count</th>\n",
       "      <th>like_count</th>\n",
       "      <th>reply_count</th>\n",
       "      <th>impression_count</th>\n",
       "    </tr>\n",
       "  </thead>\n",
       "  <tbody>\n",
       "    <tr>\n",
       "      <th>0</th>\n",
       "      <td>1.642889622681432e+18</td>\n",
       "      <td>2023-04-03 13:59:44+00:00</td>\n",
       "      <td>2023-04-08 01:07:02.538242</td>\n",
       "      <td>RT @jexep: เทคนิคฝึกภาษากับ ChatGPT ที่ผมลอง (...</td>\n",
       "      <td>th</td>\n",
       "      <td>4706577259</td>\n",
       "      <td>👷🏼 ♡ #GOT7</td>\n",
       "      <td>BPawarisa1a</td>\n",
       "      <td>ในใจJacksonwang</td>\n",
       "      <td>@JacksonWang852 ➖ รีวิว #รีวิวแบมพี #แบมพีอัพเ...</td>\n",
       "      <td>2016-01-04 02:27:33+00:00</td>\n",
       "      <td>1293.0</td>\n",
       "      <td>445.0</td>\n",
       "      <td>87051.0</td>\n",
       "      <td>False</td>\n",
       "      <td>NaN</td>\n",
       "      <td>13640.0</td>\n",
       "      <td>0.0</td>\n",
       "      <td>0.0</td>\n",
       "      <td>0.0</td>\n",
       "    </tr>\n",
       "    <tr>\n",
       "      <th>2</th>\n",
       "      <td>1.6427385624866693e+18</td>\n",
       "      <td>2023-04-03 03:59:28+00:00</td>\n",
       "      <td>2023-04-08 01:06:52.504868</td>\n",
       "      <td>RT @DarrellLerner: ChatGPT Plugins are the fas...</td>\n",
       "      <td>en</td>\n",
       "      <td>2383245894</td>\n",
       "      <td>pk</td>\n",
       "      <td>pradeep42329225</td>\n",
       "      <td>India</td>\n",
       "      <td>💐💐।।जय श्री महाकाल।।💐💐</td>\n",
       "      <td>2014-03-11 06:04:10+00:00</td>\n",
       "      <td>269.0</td>\n",
       "      <td>4141.0</td>\n",
       "      <td>3816.0</td>\n",
       "      <td>False</td>\n",
       "      <td>NaN</td>\n",
       "      <td>628.0</td>\n",
       "      <td>0.0</td>\n",
       "      <td>0.0</td>\n",
       "      <td>0.0</td>\n",
       "    </tr>\n",
       "    <tr>\n",
       "      <th>4</th>\n",
       "      <td>1.642708351690711e+18</td>\n",
       "      <td>2023-04-03 01:59:25+00:00</td>\n",
       "      <td>2023-04-08 01:06:50.638068</td>\n",
       "      <td>🔥Hey Guys, #ZenithSwap has launched at just $ ...</td>\n",
       "      <td>en</td>\n",
       "      <td>1311403370670960640</td>\n",
       "      <td>Human Being 🇨🇳🇸🇬🇻🇳</td>\n",
       "      <td>KiarostamiBeing</td>\n",
       "      <td>Chicago, IL</td>\n",
       "      <td>Freedom is the Recognition of Necessity • Mark...</td>\n",
       "      <td>2020-09-30 20:32:00+00:00</td>\n",
       "      <td>447.0</td>\n",
       "      <td>419.0</td>\n",
       "      <td>12949.0</td>\n",
       "      <td>False</td>\n",
       "      <td>NaN</td>\n",
       "      <td>0.0</td>\n",
       "      <td>0.0</td>\n",
       "      <td>0.0</td>\n",
       "      <td>0.0</td>\n",
       "    </tr>\n",
       "    <tr>\n",
       "      <th>5</th>\n",
       "      <td>1.6428593561893274e+18</td>\n",
       "      <td>2023-04-03 11:59:28+00:00</td>\n",
       "      <td>2023-04-08 01:07:00.375167</td>\n",
       "      <td>RT @sinsonetwork: Now! Join #SINSO DataLand^Ch...</td>\n",
       "      <td>en</td>\n",
       "      <td>462142717</td>\n",
       "      <td>MokoHaram</td>\n",
       "      <td>holymoko</td>\n",
       "      <td>Zambia mufulira</td>\n",
       "      <td>Public faker🍂</td>\n",
       "      <td>2012-01-12 16:25:12+00:00</td>\n",
       "      <td>2286.0</td>\n",
       "      <td>982.0</td>\n",
       "      <td>20438.0</td>\n",
       "      <td>False</td>\n",
       "      <td>NaN</td>\n",
       "      <td>270.0</td>\n",
       "      <td>0.0</td>\n",
       "      <td>0.0</td>\n",
       "      <td>0.0</td>\n",
       "    </tr>\n",
       "    <tr>\n",
       "      <th>6</th>\n",
       "      <td>1.6426932602789274e+18</td>\n",
       "      <td>2023-04-03 00:59:27+00:00</td>\n",
       "      <td>2023-04-08 01:06:49.813797</td>\n",
       "      <td>RT @igz0: 著者がジョン・フォン・ノイマンの本を読んだことあるけど、脳がコンピュータ...</td>\n",
       "      <td>ja</td>\n",
       "      <td>1642685174176526337</td>\n",
       "      <td>Inventor2525</td>\n",
       "      <td>inventor2525</td>\n",
       "      <td>South West Michigan</td>\n",
       "      <td>Half crazy roboticist (soft and ag), dabbling ...</td>\n",
       "      <td>2023-04-03 00:27:32+00:00</td>\n",
       "      <td>3.0</td>\n",
       "      <td>15.0</td>\n",
       "      <td>9.0</td>\n",
       "      <td>False</td>\n",
       "      <td>NaN</td>\n",
       "      <td>876.0</td>\n",
       "      <td>0.0</td>\n",
       "      <td>0.0</td>\n",
       "      <td>0.0</td>\n",
       "    </tr>\n",
       "  </tbody>\n",
       "</table>\n",
       "</div>"
      ],
      "text/plain": [
       "                 tweet_id              tweet_created  \\\n",
       "0   1.642889622681432e+18  2023-04-03 13:59:44+00:00   \n",
       "2  1.6427385624866693e+18  2023-04-03 03:59:28+00:00   \n",
       "4   1.642708351690711e+18  2023-04-03 01:59:25+00:00   \n",
       "5  1.6428593561893274e+18  2023-04-03 11:59:28+00:00   \n",
       "6  1.6426932602789274e+18  2023-04-03 00:59:27+00:00   \n",
       "\n",
       "              tweet_extracted  \\\n",
       "0  2023-04-08 01:07:02.538242   \n",
       "2  2023-04-08 01:06:52.504868   \n",
       "4  2023-04-08 01:06:50.638068   \n",
       "5  2023-04-08 01:07:00.375167   \n",
       "6  2023-04-08 01:06:49.813797   \n",
       "\n",
       "                                                text lang  \\\n",
       "0  RT @jexep: เทคนิคฝึกภาษากับ ChatGPT ที่ผมลอง (...   th   \n",
       "2  RT @DarrellLerner: ChatGPT Plugins are the fas...   en   \n",
       "4  🔥Hey Guys, #ZenithSwap has launched at just $ ...   en   \n",
       "5  RT @sinsonetwork: Now! Join #SINSO DataLand^Ch...   en   \n",
       "6  RT @igz0: 著者がジョン・フォン・ノイマンの本を読んだことあるけど、脳がコンピュータ...   ja   \n",
       "\n",
       "               user_id           user_name    user_username  \\\n",
       "0           4706577259          👷🏼 ♡ #GOT7      BPawarisa1a   \n",
       "2           2383245894                  pk  pradeep42329225   \n",
       "4  1311403370670960640  Human Being 🇨🇳🇸🇬🇻🇳  KiarostamiBeing   \n",
       "5            462142717           MokoHaram         holymoko   \n",
       "6  1642685174176526337        Inventor2525     inventor2525   \n",
       "\n",
       "         user_location                                   user_description  \\\n",
       "0      ในใจJacksonwang  @JacksonWang852 ➖ รีวิว #รีวิวแบมพี #แบมพีอัพเ...   \n",
       "2                India                             💐💐।।जय श्री महाकाल।।💐💐   \n",
       "4          Chicago, IL  Freedom is the Recognition of Necessity • Mark...   \n",
       "5      Zambia mufulira                                      Public faker🍂   \n",
       "6  South West Michigan  Half crazy roboticist (soft and ag), dabbling ...   \n",
       "\n",
       "                user_created  user_followers_count  user_following_count  \\\n",
       "0  2016-01-04 02:27:33+00:00                1293.0                 445.0   \n",
       "2  2014-03-11 06:04:10+00:00                 269.0                4141.0   \n",
       "4  2020-09-30 20:32:00+00:00                 447.0                 419.0   \n",
       "5  2012-01-12 16:25:12+00:00                2286.0                 982.0   \n",
       "6  2023-04-03 00:27:32+00:00                   3.0                  15.0   \n",
       "\n",
       "   user_tweet_count user_verified  source  retweet_count  like_count  \\\n",
       "0           87051.0         False     NaN        13640.0         0.0   \n",
       "2            3816.0         False     NaN          628.0         0.0   \n",
       "4           12949.0         False     NaN            0.0         0.0   \n",
       "5           20438.0         False     NaN          270.0         0.0   \n",
       "6               9.0         False     NaN          876.0         0.0   \n",
       "\n",
       "   reply_count  impression_count  \n",
       "0          0.0               0.0  \n",
       "2          0.0               0.0  \n",
       "4          0.0               0.0  \n",
       "5          0.0               0.0  \n",
       "6          0.0               0.0  "
      ]
     },
     "execution_count": 74,
     "metadata": {},
     "output_type": "execute_result"
    }
   ],
   "source": [
    "noViews = labelsDf[labelsDf['impression_count'] < 1]\n",
    "noViews.head()"
   ]
  },
  {
   "cell_type": "code",
   "execution_count": 75,
   "metadata": {},
   "outputs": [],
   "source": [
    "# create new df with tweet, id and label (bot or not)\n",
    "df = pd.DataFrame(columns=['tweet', 'id', 'label'])\n",
    "df['tweet'] = noViews['text']\n",
    "df['id'] = noViews['user_id']\n",
    "# make all rows 1 (bot)\n",
    "df['label'] = 1"
   ]
  },
  {
   "cell_type": "code",
   "execution_count": 76,
   "metadata": {},
   "outputs": [],
   "source": [
    "# drop every row with the word RT\n",
    "df = df[~df['tweet'].str.contains(\"RT\")]"
   ]
  },
  {
   "cell_type": "code",
   "execution_count": 77,
   "metadata": {},
   "outputs": [],
   "source": [
    "# create new df with tweet, id and label (bot or not)\n",
    "df2 = pd.DataFrame(columns=['tweet', 'id', 'label'])\n",
    "df2['tweet'] = labelsDf['text']\n",
    "df2['id'] = labelsDf['user_id']\n",
    "# make all rows 0 (not bot)\n",
    "df2['label'] = 0"
   ]
  },
  {
   "cell_type": "code",
   "execution_count": 78,
   "metadata": {},
   "outputs": [],
   "source": [
    "# take all df rows from labelsDf \n",
    "df2 = df2[~df2['tweet'].isin(df['tweet'])]"
   ]
  },
  {
   "cell_type": "code",
   "execution_count": 79,
   "metadata": {},
   "outputs": [],
   "source": [
    "# select only 2000 rows from df2\n",
    "df2 = df2.sample(n=2000)"
   ]
  },
  {
   "cell_type": "code",
   "execution_count": 80,
   "metadata": {},
   "outputs": [],
   "source": [
    "mergedDf = pd.concat([df, df2])\n"
   ]
  },
  {
   "cell_type": "code",
   "execution_count": 81,
   "metadata": {},
   "outputs": [],
   "source": [
    "#shuffe rows\n",
    "mergedDf = mergedDf.sample(frac=1).reset_index(drop=True)"
   ]
  },
  {
   "cell_type": "code",
   "execution_count": 82,
   "metadata": {},
   "outputs": [],
   "source": [
    "# emit csv\n",
    "mergedDf.to_csv('botClassificator.csv', index=False)"
   ]
  },
  {
   "cell_type": "code",
   "execution_count": 83,
   "metadata": {},
   "outputs": [],
   "source": [
    "lamitizer = WordNetLemmatizer()"
   ]
  },
  {
   "cell_type": "code",
   "execution_count": 84,
   "metadata": {},
   "outputs": [],
   "source": [
    "train = []\n",
    "for i in range(len(mergedDf)):\n",
    "    review = re.sub('[^a-zA-Z]', ' ', mergedDf['tweet'][i])\n",
    "    review = review.lower()\n",
    "    review = review.split()\n",
    "    review = [lamitizer.lemmatize(word) for word in review if not word in stopwords.words('english')]\n",
    "    review = ' '.join(review)\n",
    "    train.append(review)"
   ]
  },
  {
   "cell_type": "code",
   "execution_count": 85,
   "metadata": {},
   "outputs": [],
   "source": [
    "# Criando o documento de treino\n",
    "\n",
    "couvec = CountVectorizer(max_features=5000)\n",
    "x = couvec.fit_transform(train).toarray()"
   ]
  },
  {
   "cell_type": "code",
   "execution_count": 86,
   "metadata": {},
   "outputs": [],
   "source": [
    "y = pd.get_dummies(mergedDf['label'])\n",
    "y = y.iloc[:,1].values"
   ]
  },
  {
   "cell_type": "code",
   "execution_count": 87,
   "metadata": {},
   "outputs": [],
   "source": [
    "#Dividindo a base em treino e teste\n",
    "train_x, test_x, train_y, test_y = train_test_split(x, y, test_size = 0.20, random_state = 42)"
   ]
  },
  {
   "cell_type": "code",
   "execution_count": 88,
   "metadata": {},
   "outputs": [
    {
     "name": "stdout",
     "output_type": "stream",
     "text": [
      "Número de características vetorizadas: 5000\n",
      "Exemplos de características treinadas: ['aakashg' 'abhishek' 'ability' 'able' 'abskoop' 'academic' 'acc' 'access'\n",
      " 'according']\n"
     ]
    }
   ],
   "source": [
    "# número de características ou tokens\n",
    "trained_features = couvec.get_feature_names_out()\n",
    "print(\"Número de características vetorizadas:\", len(trained_features))\n",
    "print(\"Exemplos de características treinadas:\", trained_features[1:10])"
   ]
  },
  {
   "cell_type": "code",
   "execution_count": 89,
   "metadata": {},
   "outputs": [],
   "source": [
    "#initialize multiple classification models\n",
    "svc = SVC(kernel='sigmoid', gamma=1.0)\n",
    "mnb = MultinomialNB(alpha=0.2)\n",
    "dtc = DecisionTreeClassifier(min_samples_split=7, random_state=42)\n",
    "lrc = LogisticRegression(solver='liblinear', penalty='l1')\n",
    "rfc = RandomForestClassifier(n_estimators=31, random_state=42)"
   ]
  },
  {
   "cell_type": "code",
   "execution_count": 90,
   "metadata": {},
   "outputs": [],
   "source": [
    "#create a dictionary of variables and models\n",
    "clfs = {'SVC' : svc, 'NB': mnb, 'DT': dtc, 'LR': lrc, 'RF': rfc}"
   ]
  },
  {
   "cell_type": "code",
   "execution_count": 91,
   "metadata": {},
   "outputs": [],
   "source": [
    "#fit the data onto the models\n",
    "def train(clf, features, targets):\n",
    "    clf.fit(features, targets)\n",
    "\n",
    "def predict(clf, features):\n",
    "    return (clf.predict(features))"
   ]
  },
  {
   "cell_type": "code",
   "execution_count": 92,
   "metadata": {},
   "outputs": [],
   "source": [
    "pred_scores_word_vectors = []\n",
    "cm_all = []\n",
    "recall_all = []\n",
    "precision_all = []\n",
    "for k,v in clfs.items():\n",
    "    train(v, train_x, train_y)\n",
    "    pred = predict(v, test_x)\n",
    "    cm = metrics.confusion_matrix(test_y, pred)\n",
    "    recall = metrics.recall_score(test_y, pred)\n",
    "    precision = metrics.precision_score(test_y, pred)\n",
    "    cm_all.append((k, cm))\n",
    "    recall_all.append((k, recall))\n",
    "    precision_all.append((k, precision))\n",
    "    pred_scores_word_vectors.append((k, [accuracy_score(test_y , pred)]))"
   ]
  },
  {
   "cell_type": "code",
   "execution_count": 93,
   "metadata": {},
   "outputs": [],
   "source": [
    "def print_all():\n",
    "    print(recall_all)\n",
    "    print(precision_all)\n",
    "    print(cm_all)\n",
    "    print(pred_scores_word_vectors)"
   ]
  },
  {
   "cell_type": "code",
   "execution_count": 94,
   "metadata": {},
   "outputs": [
    {
     "name": "stdout",
     "output_type": "stream",
     "text": [
      "[('SVC', 0.20930232558139536), ('NB', 0.8023255813953488), ('DT', 0.813953488372093), ('LR', 0.6744186046511628), ('RF', 0.7674418604651163)]\n",
      "[('SVC', 0.2571428571428571), ('NB', 0.6330275229357798), ('DT', 0.693069306930693), ('LR', 0.8169014084507042), ('RF', 0.7252747252747253)]\n",
      "[('SVC', array([[347,  52],\n",
      "       [ 68,  18]])), ('NB', array([[359,  40],\n",
      "       [ 17,  69]])), ('DT', array([[368,  31],\n",
      "       [ 16,  70]])), ('LR', array([[386,  13],\n",
      "       [ 28,  58]])), ('RF', array([[374,  25],\n",
      "       [ 20,  66]]))]\n",
      "[('SVC', [0.7525773195876289]), ('NB', [0.8824742268041237]), ('DT', [0.9030927835051547]), ('LR', [0.9154639175257732]), ('RF', [0.9072164948453608])]\n"
     ]
    }
   ],
   "source": [
    "print_all()"
   ]
  },
  {
   "cell_type": "code",
   "execution_count": 95,
   "metadata": {},
   "outputs": [],
   "source": [
    "labels_prob = lrc.predict_proba(test_x)[:, 1]\n",
    "precisions, recalls, thresholds = metrics.precision_recall_curve(test_y, labels_prob)"
   ]
  },
  {
   "cell_type": "code",
   "execution_count": 96,
   "metadata": {},
   "outputs": [
    {
     "data": {
      "image/png": "[encoded data removed]",
      "text/plain": [
       "<Figure size 1000x700 with 1 Axes>"
      ]
     },
     "metadata": {},
     "output_type": "display_data"
    }
   ],
   "source": [
    "# Plotando a curva precisão-recall \n",
    "plt.figure(figsize=(10, 7))\n",
    "plt.plot(precisions[:-1], recalls[:-1])\n",
    "plt.xlabel(\"Recalls\")\n",
    "plt.xticks(np.arange(0, 1.1, 0.1))\n",
    "plt.ylabel(\"Precisão\")\n",
    "plt.yticks(np.arange(0, 1.1, 0.1))\n",
    "plt.title(\"Curva Precisão-Recall\")\n",
    "plt.show()"
   ]
  },
  {
   "cell_type": "code",
   "execution_count": 97,
   "metadata": {},
   "outputs": [
    {
     "data": {
      "image/png": "[encoded data removed]",
      "text/plain": [
       "<Figure size 1000x700 with 1 Axes>"
      ]
     },
     "metadata": {},
     "output_type": "display_data"
    }
   ],
   "source": [
    "#plot bar graph of various models and their prediction scores\n",
    "index = np.arange(len(pred_scores_word_vectors))\n",
    "fig, ax = plt.subplots(figsize=(10,7))\n",
    "pred_scores = [i[1] for i in pred_scores_word_vectors]\n",
    "pred_scores = np.array(pred_scores).flatten()\n",
    "plt.bar(index, pred_scores)\n",
    "plt.xticks(index, [i[0] for i in pred_scores_word_vectors])\n",
    "plt.ylabel('Scores')\n",
    "plt.xlabel('Classificadores')\n",
    "plt.title('Scores dos Classificadores')\n",
    "plt.show()\n"
   ]
  },
  {
   "cell_type": "code",
   "execution_count": 98,
   "metadata": {},
   "outputs": [
    {
     "name": "stderr",
     "output_type": "stream",
     "text": [
      "/var/folders/vz/n6zw0k5d2lq0xf_c45lm2sb40000gn/T/ipykernel_13349/1552240925.py:1: DtypeWarning: Columns (3,4) have mixed types. Specify dtype option on import or set low_memory=False.\n",
      "  df = pd.read_csv(\"../../cleaned.csv\")\n"
     ]
    }
   ],
   "source": [
    "df = pd.read_csv(\"../../cleaned.csv\")"
   ]
  },
  {
   "cell_type": "code",
   "execution_count": 99,
   "metadata": {},
   "outputs": [],
   "source": [
    "\n",
    "# # Preprocessing the dataframe\n",
    "# df['tweet'] = df['tweet'].apply(lambda x: ' '.join([lamitizer.lemmatize(word) for word in x.lower().split() if word not in stopwords.words('english')]))\n",
    "\n",
    "# # Transform the data using CountVectorizer\n",
    "# df_vec = couvec.transform(df['tweet']).toarray()\n",
    "\n",
    "# # Make predictions with RandomForestClassifier\n",
    "# preds = rfc.predict(df_vec)\n",
    "\n",
    "# # Add the predictions to the dataframe\n",
    "# df['is_bot'] = preds\n",
    "\n",
    "# # Keep only the rows where 'is_bot' is 0 (not a bot)\n",
    "# df_cleaned = df[df['is_bot'] == 0]\n",
    "\n",
    "# # Drop the 'is_bot' column as it's not needed anymore\n",
    "# df_cleaned = df_cleaned.drop(columns=['is_bot'])\n",
    "\n",
    "# # Print the cleaned dataframe\n",
    "# print(df_cleaned)\n"
   ]
  },
  {
   "cell_type": "code",
   "execution_count": 100,
   "metadata": {},
   "outputs": [],
   "source": [
    "# # save to dfBot the lines that are in df and not in df_cleaned\n",
    "# dfBot = df[~df['tweet'].isin(df_cleaned['tweet'])]"
   ]
  },
  {
   "cell_type": "code",
   "execution_count": 101,
   "metadata": {},
   "outputs": [],
   "source": [
    "# # save to csv dfbot and df_cleaned\n",
    "# dfBot.to_csv('dfBot.csv', index=False)\n",
    "# df_cleaned.to_csv('dfCleaned.csv', index=False)"
   ]
  },
  {
   "cell_type": "code",
   "execution_count": 102,
   "metadata": {},
   "outputs": [],
   "source": [
    "# print(df.shape[0] - df_cleaned.shape[0])"
   ]
  }
 ],
 "metadata": {
  "kernelspec": {
   "display_name": "Python 3",
   "language": "python",
   "name": "python3"
  },
  "language_info": {
   "codemirror_mode": {
    "name": "ipython",
    "version": 3
   },
   "file_extension": ".py",
   "mimetype": "text/x-python",
   "name": "python",
   "nbconvert_exporter": "python",
   "pygments_lexer": "ipython3",
   "version": "3.10.11"
  },
  "orig_nbformat": 4
 },
 "nbformat": 4,
 "nbformat_minor": 2
}
