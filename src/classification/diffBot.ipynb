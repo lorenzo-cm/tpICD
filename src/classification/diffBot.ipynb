{
 "cells": [
  {
   "cell_type": "code",
   "execution_count": 1,
   "metadata": {},
   "outputs": [],
   "source": [
    "import pandas as pd"
   ]
  },
  {
   "cell_type": "code",
   "execution_count": 76,
   "metadata": {},
   "outputs": [
    {
     "name": "stderr",
     "output_type": "stream",
     "text": [
      "/tmp/ipykernel_4246/2329655370.py:1: DtypeWarning: Columns (4,5) have mixed types. Specify dtype option on import or set low_memory=False.\n",
      "  df1 = pd.read_csv('../mergeCompleto.csv')\n"
     ]
    }
   ],
   "source": [
    "df1 = pd.read_csv('../mergeCompleto.csv')\n"
   ]
  },
  {
   "cell_type": "code",
   "execution_count": 77,
   "metadata": {},
   "outputs": [],
   "source": [
    "df2 = pd.read_csv('../../data/dfBot.csv')"
   ]
  },
  {
   "cell_type": "code",
   "execution_count": 21,
   "metadata": {},
   "outputs": [
    {
     "data": {
      "text/html": [
       "<div>\n",
       "<style scoped>\n",
       "    .dataframe tbody tr th:only-of-type {\n",
       "        vertical-align: middle;\n",
       "    }\n",
       "\n",
       "    .dataframe tbody tr th {\n",
       "        vertical-align: top;\n",
       "    }\n",
       "\n",
       "    .dataframe thead th {\n",
       "        text-align: right;\n",
       "    }\n",
       "</style>\n",
       "<table border=\"1\" class=\"dataframe\">\n",
       "  <thead>\n",
       "    <tr style=\"text-align: right;\">\n",
       "      <th></th>\n",
       "      <th>Unnamed: 0</th>\n",
       "      <th>Date</th>\n",
       "      <th>Text</th>\n",
       "      <th>Language</th>\n",
       "      <th>Likes</th>\n",
       "      <th>Retweets</th>\n",
       "    </tr>\n",
       "  </thead>\n",
       "  <tbody>\n",
       "    <tr>\n",
       "      <th>0</th>\n",
       "      <td>17925</td>\n",
       "      <td>2023-01-22 13:44:39+00:00</td>\n",
       "      <td>@AlexandrovnaIng Prohibition of ChatGPT has be...</td>\n",
       "      <td>en</td>\n",
       "      <td>5.0</td>\n",
       "      <td>0.0</td>\n",
       "    </tr>\n",
       "    <tr>\n",
       "      <th>1</th>\n",
       "      <td>17926</td>\n",
       "      <td>2023-01-22 13:44:49+00:00</td>\n",
       "      <td>Bow down to chatGPT 🫡..... https://t.co/ENTSzi...</td>\n",
       "      <td>en</td>\n",
       "      <td>2.0</td>\n",
       "      <td>0.0</td>\n",
       "    </tr>\n",
       "    <tr>\n",
       "      <th>2</th>\n",
       "      <td>17927</td>\n",
       "      <td>2023-01-22 13:45:03+00:00</td>\n",
       "      <td>ChatGPT runs 10K Nvidia training GPUs with pot...</td>\n",
       "      <td>en</td>\n",
       "      <td>0.0</td>\n",
       "      <td>0.0</td>\n",
       "    </tr>\n",
       "    <tr>\n",
       "      <th>3</th>\n",
       "      <td>17928</td>\n",
       "      <td>2023-01-22 13:45:04+00:00</td>\n",
       "      <td>@SWENGDAD There is repetitive work in every jo...</td>\n",
       "      <td>en</td>\n",
       "      <td>3.0</td>\n",
       "      <td>0.0</td>\n",
       "    </tr>\n",
       "    <tr>\n",
       "      <th>4</th>\n",
       "      <td>17929</td>\n",
       "      <td>2023-01-22 13:45:06+00:00</td>\n",
       "      <td>I created a fictional jewelry brand using Chat...</td>\n",
       "      <td>en</td>\n",
       "      <td>2.0</td>\n",
       "      <td>1.0</td>\n",
       "    </tr>\n",
       "  </tbody>\n",
       "</table>\n",
       "</div>"
      ],
      "text/plain": [
       "   Unnamed: 0                       Date  \\\n",
       "0       17925  2023-01-22 13:44:39+00:00   \n",
       "1       17926  2023-01-22 13:44:49+00:00   \n",
       "2       17927  2023-01-22 13:45:03+00:00   \n",
       "3       17928  2023-01-22 13:45:04+00:00   \n",
       "4       17929  2023-01-22 13:45:06+00:00   \n",
       "\n",
       "                                                Text Language Likes Retweets  \n",
       "0  @AlexandrovnaIng Prohibition of ChatGPT has be...       en   5.0      0.0  \n",
       "1  Bow down to chatGPT 🫡..... https://t.co/ENTSzi...       en   2.0      0.0  \n",
       "2  ChatGPT runs 10K Nvidia training GPUs with pot...       en   0.0      0.0  \n",
       "3  @SWENGDAD There is repetitive work in every jo...       en   3.0      0.0  \n",
       "4  I created a fictional jewelry brand using Chat...       en   2.0      1.0  "
      ]
     },
     "execution_count": 21,
     "metadata": {},
     "output_type": "execute_result"
    }
   ],
   "source": [
    "df1.head()"
   ]
  },
  {
   "cell_type": "code",
   "execution_count": 22,
   "metadata": {},
   "outputs": [
    {
     "data": {
      "text/html": [
       "<div>\n",
       "<style scoped>\n",
       "    .dataframe tbody tr th:only-of-type {\n",
       "        vertical-align: middle;\n",
       "    }\n",
       "\n",
       "    .dataframe tbody tr th {\n",
       "        vertical-align: top;\n",
       "    }\n",
       "\n",
       "    .dataframe thead th {\n",
       "        text-align: right;\n",
       "    }\n",
       "</style>\n",
       "<table border=\"1\" class=\"dataframe\">\n",
       "  <thead>\n",
       "    <tr style=\"text-align: right;\">\n",
       "      <th></th>\n",
       "      <th>user</th>\n",
       "      <th>date</th>\n",
       "      <th>tweet</th>\n",
       "      <th>retweets</th>\n",
       "      <th>likes</th>\n",
       "      <th>is_bot</th>\n",
       "    </tr>\n",
       "  </thead>\n",
       "  <tbody>\n",
       "    <tr>\n",
       "      <th>0</th>\n",
       "      <td>torksmith</td>\n",
       "      <td>2023-04-08 03:22:02+00:00</td>\n",
       "      <td>🌟 enhance business cutting-edge ai technology!...</td>\n",
       "      <td>0.0</td>\n",
       "      <td>0.0</td>\n",
       "      <td>1</td>\n",
       "    </tr>\n",
       "    <tr>\n",
       "      <th>1</th>\n",
       "      <td>DaveHallmon</td>\n",
       "      <td>2023-04-08 02:47:02+00:00</td>\n",
       "      <td>ok... @romanklis decided go back beyond safety...</td>\n",
       "      <td>0.0</td>\n",
       "      <td>0.0</td>\n",
       "      <td>1</td>\n",
       "    </tr>\n",
       "    <tr>\n",
       "      <th>2</th>\n",
       "      <td>torksmith</td>\n",
       "      <td>2023-04-08 02:36:03+00:00</td>\n",
       "      <td>🌟 enhance business cutting-edge ai technology!...</td>\n",
       "      <td>0.0</td>\n",
       "      <td>0.0</td>\n",
       "      <td>1</td>\n",
       "    </tr>\n",
       "    <tr>\n",
       "      <th>3</th>\n",
       "      <td>torksmith</td>\n",
       "      <td>2023-04-08 01:52:04+00:00</td>\n",
       "      <td>🌟 enhance business cutting-edge ai technology!...</td>\n",
       "      <td>0.0</td>\n",
       "      <td>0.0</td>\n",
       "      <td>1</td>\n",
       "    </tr>\n",
       "    <tr>\n",
       "      <th>4</th>\n",
       "      <td>StrangeVoodooTV</td>\n",
       "      <td>2023-04-08 01:16:09+00:00</td>\n",
       "      <td>come &amp;amp; watch ai attempt create ultimate nf...</td>\n",
       "      <td>0.0</td>\n",
       "      <td>1.0</td>\n",
       "      <td>1</td>\n",
       "    </tr>\n",
       "  </tbody>\n",
       "</table>\n",
       "</div>"
      ],
      "text/plain": [
       "              user                       date  \\\n",
       "0        torksmith  2023-04-08 03:22:02+00:00   \n",
       "1      DaveHallmon  2023-04-08 02:47:02+00:00   \n",
       "2        torksmith  2023-04-08 02:36:03+00:00   \n",
       "3        torksmith  2023-04-08 01:52:04+00:00   \n",
       "4  StrangeVoodooTV  2023-04-08 01:16:09+00:00   \n",
       "\n",
       "                                               tweet  retweets  likes  is_bot  \n",
       "0  🌟 enhance business cutting-edge ai technology!...       0.0    0.0       1  \n",
       "1  ok... @romanklis decided go back beyond safety...       0.0    0.0       1  \n",
       "2  🌟 enhance business cutting-edge ai technology!...       0.0    0.0       1  \n",
       "3  🌟 enhance business cutting-edge ai technology!...       0.0    0.0       1  \n",
       "4  come &amp; watch ai attempt create ultimate nf...       0.0    1.0       1  "
      ]
     },
     "execution_count": 22,
     "metadata": {},
     "output_type": "execute_result"
    }
   ],
   "source": [
    "df2.head()"
   ]
  },
  {
   "cell_type": "code",
   "execution_count": 66,
   "metadata": {},
   "outputs": [],
   "source": [
    "langDf1 = df1['Language']"
   ]
  },
  {
   "cell_type": "code",
   "execution_count": 78,
   "metadata": {},
   "outputs": [],
   "source": [
    "df2 = df2.rename(columns={'date': 'Date', 'tweet': 'Text', 'likes': 'Likes', 'retweets': 'Retweets'})\n",
    "df2 = df2[['Date', 'Text', 'Likes', 'Retweets']]\n",
    "#df2['Language'] = ''\n",
    "df1 = df1[['Date', 'Text', 'Likes', 'Retweets', 'Language']]"
   ]
  },
  {
   "cell_type": "code",
   "execution_count": 73,
   "metadata": {},
   "outputs": [
    {
     "data": {
      "text/html": [
       "<div>\n",
       "<style scoped>\n",
       "    .dataframe tbody tr th:only-of-type {\n",
       "        vertical-align: middle;\n",
       "    }\n",
       "\n",
       "    .dataframe tbody tr th {\n",
       "        vertical-align: top;\n",
       "    }\n",
       "\n",
       "    .dataframe thead th {\n",
       "        text-align: right;\n",
       "    }\n",
       "</style>\n",
       "<table border=\"1\" class=\"dataframe\">\n",
       "  <thead>\n",
       "    <tr style=\"text-align: right;\">\n",
       "      <th></th>\n",
       "      <th>Date</th>\n",
       "      <th>Text</th>\n",
       "      <th>Likes</th>\n",
       "      <th>Retweets</th>\n",
       "      <th>Language</th>\n",
       "    </tr>\n",
       "  </thead>\n",
       "  <tbody>\n",
       "    <tr>\n",
       "      <th>0</th>\n",
       "      <td>2023-01-22 13:44:39+00:00</td>\n",
       "      <td>@AlexandrovnaIng Prohibition of ChatGPT has be...</td>\n",
       "      <td>5.0</td>\n",
       "      <td>0.0</td>\n",
       "      <td>en</td>\n",
       "    </tr>\n",
       "    <tr>\n",
       "      <th>1</th>\n",
       "      <td>2023-01-22 13:44:49+00:00</td>\n",
       "      <td>Bow down to chatGPT 🫡..... https://t.co/ENTSzi...</td>\n",
       "      <td>2.0</td>\n",
       "      <td>0.0</td>\n",
       "      <td>en</td>\n",
       "    </tr>\n",
       "    <tr>\n",
       "      <th>2</th>\n",
       "      <td>2023-01-22 13:45:03+00:00</td>\n",
       "      <td>ChatGPT runs 10K Nvidia training GPUs with pot...</td>\n",
       "      <td>0.0</td>\n",
       "      <td>0.0</td>\n",
       "      <td>en</td>\n",
       "    </tr>\n",
       "    <tr>\n",
       "      <th>3</th>\n",
       "      <td>2023-01-22 13:45:04+00:00</td>\n",
       "      <td>@SWENGDAD There is repetitive work in every jo...</td>\n",
       "      <td>3.0</td>\n",
       "      <td>0.0</td>\n",
       "      <td>en</td>\n",
       "    </tr>\n",
       "    <tr>\n",
       "      <th>4</th>\n",
       "      <td>2023-01-22 13:45:06+00:00</td>\n",
       "      <td>I created a fictional jewelry brand using Chat...</td>\n",
       "      <td>2.0</td>\n",
       "      <td>1.0</td>\n",
       "      <td>en</td>\n",
       "    </tr>\n",
       "  </tbody>\n",
       "</table>\n",
       "</div>"
      ],
      "text/plain": [
       "                        Date  \\\n",
       "0  2023-01-22 13:44:39+00:00   \n",
       "1  2023-01-22 13:44:49+00:00   \n",
       "2  2023-01-22 13:45:03+00:00   \n",
       "3  2023-01-22 13:45:04+00:00   \n",
       "4  2023-01-22 13:45:06+00:00   \n",
       "\n",
       "                                                Text Likes Retweets Language  \n",
       "0  @AlexandrovnaIng Prohibition of ChatGPT has be...   5.0      0.0       en  \n",
       "1  Bow down to chatGPT 🫡..... https://t.co/ENTSzi...   2.0      0.0       en  \n",
       "2  ChatGPT runs 10K Nvidia training GPUs with pot...   0.0      0.0       en  \n",
       "3  @SWENGDAD There is repetitive work in every jo...   3.0      0.0       en  \n",
       "4  I created a fictional jewelry brand using Chat...   2.0      1.0       en  "
      ]
     },
     "execution_count": 73,
     "metadata": {},
     "output_type": "execute_result"
    }
   ],
   "source": [
    "df1.head()"
   ]
  },
  {
   "cell_type": "code",
   "execution_count": 74,
   "metadata": {},
   "outputs": [
    {
     "data": {
      "text/html": [
       "<div>\n",
       "<style scoped>\n",
       "    .dataframe tbody tr th:only-of-type {\n",
       "        vertical-align: middle;\n",
       "    }\n",
       "\n",
       "    .dataframe tbody tr th {\n",
       "        vertical-align: top;\n",
       "    }\n",
       "\n",
       "    .dataframe thead th {\n",
       "        text-align: right;\n",
       "    }\n",
       "</style>\n",
       "<table border=\"1\" class=\"dataframe\">\n",
       "  <thead>\n",
       "    <tr style=\"text-align: right;\">\n",
       "      <th></th>\n",
       "      <th>Date</th>\n",
       "      <th>Text</th>\n",
       "      <th>Likes</th>\n",
       "      <th>Retweets</th>\n",
       "      <th>Language</th>\n",
       "    </tr>\n",
       "  </thead>\n",
       "  <tbody>\n",
       "    <tr>\n",
       "      <th>0</th>\n",
       "      <td>2023-04-08 03:22:02+00:00</td>\n",
       "      <td>🌟 enhance business cutting-edge ai technology!...</td>\n",
       "      <td>0.0</td>\n",
       "      <td>0.0</td>\n",
       "      <td></td>\n",
       "    </tr>\n",
       "    <tr>\n",
       "      <th>1</th>\n",
       "      <td>2023-04-08 02:47:02+00:00</td>\n",
       "      <td>ok... @romanklis decided go back beyond safety...</td>\n",
       "      <td>0.0</td>\n",
       "      <td>0.0</td>\n",
       "      <td></td>\n",
       "    </tr>\n",
       "    <tr>\n",
       "      <th>2</th>\n",
       "      <td>2023-04-08 02:36:03+00:00</td>\n",
       "      <td>🌟 enhance business cutting-edge ai technology!...</td>\n",
       "      <td>0.0</td>\n",
       "      <td>0.0</td>\n",
       "      <td></td>\n",
       "    </tr>\n",
       "    <tr>\n",
       "      <th>3</th>\n",
       "      <td>2023-04-08 01:52:04+00:00</td>\n",
       "      <td>🌟 enhance business cutting-edge ai technology!...</td>\n",
       "      <td>0.0</td>\n",
       "      <td>0.0</td>\n",
       "      <td></td>\n",
       "    </tr>\n",
       "    <tr>\n",
       "      <th>4</th>\n",
       "      <td>2023-04-08 01:16:09+00:00</td>\n",
       "      <td>come &amp;amp; watch ai attempt create ultimate nf...</td>\n",
       "      <td>1.0</td>\n",
       "      <td>0.0</td>\n",
       "      <td></td>\n",
       "    </tr>\n",
       "  </tbody>\n",
       "</table>\n",
       "</div>"
      ],
      "text/plain": [
       "                        Date  \\\n",
       "0  2023-04-08 03:22:02+00:00   \n",
       "1  2023-04-08 02:47:02+00:00   \n",
       "2  2023-04-08 02:36:03+00:00   \n",
       "3  2023-04-08 01:52:04+00:00   \n",
       "4  2023-04-08 01:16:09+00:00   \n",
       "\n",
       "                                                Text  Likes  Retweets Language  \n",
       "0  🌟 enhance business cutting-edge ai technology!...    0.0       0.0           \n",
       "1  ok... @romanklis decided go back beyond safety...    0.0       0.0           \n",
       "2  🌟 enhance business cutting-edge ai technology!...    0.0       0.0           \n",
       "3  🌟 enhance business cutting-edge ai technology!...    0.0       0.0           \n",
       "4  come &amp; watch ai attempt create ultimate nf...    1.0       0.0           "
      ]
     },
     "execution_count": 74,
     "metadata": {},
     "output_type": "execute_result"
    }
   ],
   "source": [
    "df2.head()"
   ]
  },
  {
   "cell_type": "code",
   "execution_count": 79,
   "metadata": {},
   "outputs": [],
   "source": [
    "\n",
    "df_diferentes = df1[~df1.isin(df2)].dropna()"
   ]
  },
  {
   "cell_type": "code",
   "execution_count": 80,
   "metadata": {},
   "outputs": [
    {
     "data": {
      "text/plain": [
       "(684352, 5)"
      ]
     },
     "execution_count": 80,
     "metadata": {},
     "output_type": "execute_result"
    }
   ],
   "source": [
    "df1.shape\n"
   ]
  },
  {
   "cell_type": "code",
   "execution_count": 81,
   "metadata": {},
   "outputs": [
    {
     "data": {
      "text/plain": [
       "(9056, 4)"
      ]
     },
     "execution_count": 81,
     "metadata": {},
     "output_type": "execute_result"
    }
   ],
   "source": [
    "df2.shape\n"
   ]
  },
  {
   "cell_type": "code",
   "execution_count": 82,
   "metadata": {},
   "outputs": [
    {
     "data": {
      "text/plain": [
       "(678185, 5)"
      ]
     },
     "execution_count": 82,
     "metadata": {},
     "output_type": "execute_result"
    }
   ],
   "source": [
    "df_diferentes.shape"
   ]
  },
  {
   "cell_type": "code",
   "execution_count": 75,
   "metadata": {},
   "outputs": [
    {
     "data": {
      "text/plain": [
       "675296"
      ]
     },
     "execution_count": 75,
     "metadata": {},
     "output_type": "execute_result"
    }
   ],
   "source": [
    "684352-9056"
   ]
  },
  {
   "cell_type": "code",
   "execution_count": 72,
   "metadata": {},
   "outputs": [
    {
     "data": {
      "text/html": [
       "<div>\n",
       "<style scoped>\n",
       "    .dataframe tbody tr th:only-of-type {\n",
       "        vertical-align: middle;\n",
       "    }\n",
       "\n",
       "    .dataframe tbody tr th {\n",
       "        vertical-align: top;\n",
       "    }\n",
       "\n",
       "    .dataframe thead th {\n",
       "        text-align: right;\n",
       "    }\n",
       "</style>\n",
       "<table border=\"1\" class=\"dataframe\">\n",
       "  <thead>\n",
       "    <tr style=\"text-align: right;\">\n",
       "      <th></th>\n",
       "      <th>Date</th>\n",
       "      <th>Text</th>\n",
       "      <th>Likes</th>\n",
       "      <th>Retweets</th>\n",
       "      <th>Language</th>\n",
       "    </tr>\n",
       "  </thead>\n",
       "  <tbody>\n",
       "    <tr>\n",
       "      <th>4</th>\n",
       "      <td>2023-01-22 13:45:06+00:00</td>\n",
       "      <td>I created a fictional jewelry brand using Chat...</td>\n",
       "      <td>2.0</td>\n",
       "      <td>1.0</td>\n",
       "      <td>en</td>\n",
       "    </tr>\n",
       "    <tr>\n",
       "      <th>8</th>\n",
       "      <td>2023-01-22 13:45:15+00:00</td>\n",
       "      <td>🤯 #ChatGPT writes excel formulas!\\n\\n#Microsof...</td>\n",
       "      <td>20.0</td>\n",
       "      <td>6.0</td>\n",
       "      <td>en</td>\n",
       "    </tr>\n",
       "    <tr>\n",
       "      <th>17</th>\n",
       "      <td>2023-01-22 13:46:14+00:00</td>\n",
       "      <td>There goes the entire #PR industry.  I just wr...</td>\n",
       "      <td>2.0</td>\n",
       "      <td>1.0</td>\n",
       "      <td>en</td>\n",
       "    </tr>\n",
       "    <tr>\n",
       "      <th>22</th>\n",
       "      <td>2023-01-22 13:46:35+00:00</td>\n",
       "      <td>Soon, we will see a scenario where we will dis...</td>\n",
       "      <td>7.0</td>\n",
       "      <td>1.0</td>\n",
       "      <td>en</td>\n",
       "    </tr>\n",
       "    <tr>\n",
       "      <th>25</th>\n",
       "      <td>2023-01-22 13:46:48+00:00</td>\n",
       "      <td>ChatGPT is free 👀\\n\\nThat's why I made this fr...</td>\n",
       "      <td>348.0</td>\n",
       "      <td>40.0</td>\n",
       "      <td>en</td>\n",
       "    </tr>\n",
       "  </tbody>\n",
       "</table>\n",
       "</div>"
      ],
      "text/plain": [
       "                         Date  \\\n",
       "4   2023-01-22 13:45:06+00:00   \n",
       "8   2023-01-22 13:45:15+00:00   \n",
       "17  2023-01-22 13:46:14+00:00   \n",
       "22  2023-01-22 13:46:35+00:00   \n",
       "25  2023-01-22 13:46:48+00:00   \n",
       "\n",
       "                                                 Text  Likes Retweets Language  \n",
       "4   I created a fictional jewelry brand using Chat...    2.0      1.0       en  \n",
       "8   🤯 #ChatGPT writes excel formulas!\\n\\n#Microsof...   20.0      6.0       en  \n",
       "17  There goes the entire #PR industry.  I just wr...    2.0      1.0       en  \n",
       "22  Soon, we will see a scenario where we will dis...    7.0      1.0       en  \n",
       "25  ChatGPT is free 👀\\n\\nThat's why I made this fr...  348.0     40.0       en  "
      ]
     },
     "execution_count": 72,
     "metadata": {},
     "output_type": "execute_result"
    }
   ],
   "source": [
    "df_diferentes.head()"
   ]
  },
  {
   "cell_type": "code",
   "execution_count": 83,
   "metadata": {},
   "outputs": [],
   "source": [
    "df_diferentes.to_csv('dfSemBot.csv')"
   ]
  },
  {
   "cell_type": "code",
   "execution_count": null,
   "metadata": {},
   "outputs": [],
   "source": [
    "df = "
   ]
  }
 ],
 "metadata": {
  "kernelspec": {
   "display_name": "tpICD",
   "language": "python",
   "name": "python3"
  },
  "language_info": {
   "codemirror_mode": {
    "name": "ipython",
    "version": 3
   },
   "file_extension": ".py",
   "mimetype": "text/x-python",
   "name": "python",
   "nbconvert_exporter": "python",
   "pygments_lexer": "ipython3",
   "version": "3.10.11"
  },
  "orig_nbformat": 4
 },
 "nbformat": 4,
 "nbformat_minor": 2
}
