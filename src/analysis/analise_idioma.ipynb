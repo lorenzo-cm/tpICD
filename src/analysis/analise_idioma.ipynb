{
 "cells": [
  {
   "cell_type": "code",
   "execution_count": 1,
   "metadata": {},
   "outputs": [],
   "source": [
    "import glob\n",
    "import pandas as pd\n",
    "import numpy as np"
   ]
  },
  {
   "cell_type": "code",
   "execution_count": 2,
   "metadata": {},
   "outputs": [
    {
     "data": {
      "text/plain": [
       "27"
      ]
     },
     "execution_count": 2,
     "metadata": {},
     "output_type": "execute_result"
    }
   ],
   "source": [
    "csv_files = glob.glob('csvs/*.csv')\n",
    "len(csv_files)"
   ]
  },
  {
   "cell_type": "code",
   "execution_count": 3,
   "metadata": {},
   "outputs": [
    {
     "data": {
      "text/html": [
       "<div>\n",
       "<style scoped>\n",
       "    .dataframe tbody tr th:only-of-type {\n",
       "        vertical-align: middle;\n",
       "    }\n",
       "\n",
       "    .dataframe tbody tr th {\n",
       "        vertical-align: top;\n",
       "    }\n",
       "\n",
       "    .dataframe thead th {\n",
       "        text-align: right;\n",
       "    }\n",
       "</style>\n",
       "<table border=\"1\" class=\"dataframe\">\n",
       "  <thead>\n",
       "    <tr style=\"text-align: right;\">\n",
       "      <th></th>\n",
       "      <th>Language</th>\n",
       "      <th>polarity</th>\n",
       "    </tr>\n",
       "  </thead>\n",
       "  <tbody>\n",
       "    <tr>\n",
       "      <th>0</th>\n",
       "      <td>de</td>\n",
       "      <td>0.379981</td>\n",
       "    </tr>\n",
       "    <tr>\n",
       "      <th>1</th>\n",
       "      <td>en</td>\n",
       "      <td>0.366739</td>\n",
       "    </tr>\n",
       "    <tr>\n",
       "      <th>2</th>\n",
       "      <td>es</td>\n",
       "      <td>0.381713</td>\n",
       "    </tr>\n",
       "    <tr>\n",
       "      <th>3</th>\n",
       "      <td>fr</td>\n",
       "      <td>0.391340</td>\n",
       "    </tr>\n",
       "    <tr>\n",
       "      <th>4</th>\n",
       "      <td>ja</td>\n",
       "      <td>0.365577</td>\n",
       "    </tr>\n",
       "    <tr>\n",
       "      <th>...</th>\n",
       "      <td>...</td>\n",
       "      <td>...</td>\n",
       "    </tr>\n",
       "    <tr>\n",
       "      <th>157</th>\n",
       "      <td>en</td>\n",
       "      <td>0.366921</td>\n",
       "    </tr>\n",
       "    <tr>\n",
       "      <th>158</th>\n",
       "      <td>es</td>\n",
       "      <td>0.360755</td>\n",
       "    </tr>\n",
       "    <tr>\n",
       "      <th>159</th>\n",
       "      <td>fr</td>\n",
       "      <td>0.361928</td>\n",
       "    </tr>\n",
       "    <tr>\n",
       "      <th>160</th>\n",
       "      <td>ja</td>\n",
       "      <td>0.375226</td>\n",
       "    </tr>\n",
       "    <tr>\n",
       "      <th>161</th>\n",
       "      <td>pt</td>\n",
       "      <td>0.354264</td>\n",
       "    </tr>\n",
       "  </tbody>\n",
       "</table>\n",
       "<p>162 rows × 2 columns</p>\n",
       "</div>"
      ],
      "text/plain": [
       "    Language  polarity\n",
       "0         de  0.379981\n",
       "1         en  0.366739\n",
       "2         es  0.381713\n",
       "3         fr  0.391340\n",
       "4         ja  0.365577\n",
       "..       ...       ...\n",
       "157       en  0.366921\n",
       "158       es  0.360755\n",
       "159       fr  0.361928\n",
       "160       ja  0.375226\n",
       "161       pt  0.354264\n",
       "\n",
       "[162 rows x 2 columns]"
      ]
     },
     "execution_count": 3,
     "metadata": {},
     "output_type": "execute_result"
    }
   ],
   "source": [
    "dfs = []\n",
    "for csv in csv_files:\n",
    "    df = pd.read_csv(csv)\n",
    "    dfs.append(df)\n",
    "\n",
    "unified_db = pd.concat(dfs, ignore_index=True)\n",
    "unified_db"
   ]
  },
  {
   "cell_type": "code",
   "execution_count": null,
   "metadata": {},
   "outputs": [],
   "source": [
    "unified_db['polarity'].mean()"
   ]
  },
  {
   "cell_type": "code",
   "execution_count": null,
   "metadata": {},
   "outputs": [],
   "source": [
    "unified_db['polarity'].std(ddof=1)"
   ]
  },
  {
   "cell_type": "code",
   "execution_count": 5,
   "metadata": {},
   "outputs": [],
   "source": [
    "import scipy.stats as ss"
   ]
  },
  {
   "cell_type": "code",
   "execution_count": 4,
   "metadata": {},
   "outputs": [],
   "source": [
    "lang_dict = {\n",
    "    'de': 0.277940,\n",
    "    'en': 0.368149,\n",
    "    'es': 0.303380,\n",
    "    'fr': 0.281454,\n",
    "    'ja': 0.346158,\n",
    "    'pt': 0.257364\n",
    "}\n"
   ]
  },
  {
   "cell_type": "code",
   "execution_count": 6,
   "metadata": {},
   "outputs": [],
   "source": [
    "from scipy.stats import norm\n",
    "\n",
    "def calculate_two_sided_p_value(language):\n",
    "    mean = unified_db['polarity'].mean()\n",
    "    std_dev = unified_db['polarity'].std(ddof=1)\n",
    "    # calculate the z score\n",
    "\n",
    "    value = lang_dict[language]\n",
    "    z_score = (value - mean) / std_dev\n",
    "\n",
    "    # calculate the p-value\n",
    "    p_value = 2 * norm.sf(abs(z_score))  # two-sided pvalue = Prob(abs(Z)>z_score)\n",
    "\n",
    "    return p_value"
   ]
  },
  {
   "cell_type": "code",
   "execution_count": 7,
   "metadata": {},
   "outputs": [
    {
     "name": "stdout",
     "output_type": "stream",
     "text": [
      "P valor de idioma de: 7.251230460940291e-09\n",
      "P valor de idioma en: 0.9845301253299571\n",
      "P valor de idioma es: 3.352550768523418e-05\n",
      "P valor de idioma fr: 2.7148648409342318e-08\n",
      "P valor de idioma ja: 0.16283658354220587\n",
      "P valor de idioma pt: 1.1693917973330562e-12\n"
     ]
    }
   ],
   "source": [
    "for key in lang_dict.keys():\n",
    "    print(f'P valor de idioma {key}: {calculate_two_sided_p_value(key)}')"
   ]
  }
 ],
 "metadata": {
  "kernelspec": {
   "display_name": "tpICD",
   "language": "python",
   "name": "python3"
  },
  "language_info": {
   "codemirror_mode": {
    "name": "ipython",
    "version": 3
   },
   "file_extension": ".py",
   "mimetype": "text/x-python",
   "name": "python",
   "nbconvert_exporter": "python",
   "pygments_lexer": "ipython3",
   "version": "3.10.11"
  },
  "orig_nbformat": 4
 },
 "nbformat": 4,
 "nbformat_minor": 2
}
