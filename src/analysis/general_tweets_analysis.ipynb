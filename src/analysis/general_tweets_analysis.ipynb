{
 "cells": [
  {
   "cell_type": "code",
   "execution_count": 3,
   "metadata": {},
   "outputs": [],
   "source": [
    "import pandas as pd\n",
    "import numpy as np"
   ]
  },
  {
   "cell_type": "code",
   "execution_count": 12,
   "metadata": {},
   "outputs": [
    {
     "name": "stderr",
     "output_type": "stream",
     "text": [
      "100%|██████████| 1600000/1600000 [06:08<00:00, 4341.90it/s]\n",
      "100%|██████████| 1600000/1600000 [00:04<00:00, 327223.53it/s]\n"
     ]
    },
    {
     "data": {
      "text/html": [
       "<div>\n",
       "<style scoped>\n",
       "    .dataframe tbody tr th:only-of-type {\n",
       "        vertical-align: middle;\n",
       "    }\n",
       "\n",
       "    .dataframe tbody tr th {\n",
       "        vertical-align: top;\n",
       "    }\n",
       "\n",
       "    .dataframe thead th {\n",
       "        text-align: right;\n",
       "    }\n",
       "</style>\n",
       "<table border=\"1\" class=\"dataframe\">\n",
       "  <thead>\n",
       "    <tr style=\"text-align: right;\">\n",
       "      <th></th>\n",
       "      <th>polarity</th>\n",
       "      <th>id</th>\n",
       "      <th>date</th>\n",
       "      <th>user</th>\n",
       "      <th>text</th>\n",
       "      <th>our_polarity</th>\n",
       "    </tr>\n",
       "  </thead>\n",
       "  <tbody>\n",
       "    <tr>\n",
       "      <th>0</th>\n",
       "      <td>-1</td>\n",
       "      <td>1467810369</td>\n",
       "      <td>Mon Apr 06 22:19:45 PDT 2009</td>\n",
       "      <td>_TheSpecialOne_</td>\n",
       "      <td>@switchfoot http://twitpic.com/2y1zl - Awww, t...</td>\n",
       "      <td>0</td>\n",
       "    </tr>\n",
       "    <tr>\n",
       "      <th>1</th>\n",
       "      <td>-1</td>\n",
       "      <td>1467810672</td>\n",
       "      <td>Mon Apr 06 22:19:49 PDT 2009</td>\n",
       "      <td>scotthamilton</td>\n",
       "      <td>is upset that he can't update his Facebook by ...</td>\n",
       "      <td>-1</td>\n",
       "    </tr>\n",
       "    <tr>\n",
       "      <th>2</th>\n",
       "      <td>-1</td>\n",
       "      <td>1467810917</td>\n",
       "      <td>Mon Apr 06 22:19:53 PDT 2009</td>\n",
       "      <td>mattycus</td>\n",
       "      <td>@Kenichan I dived many times for the ball. Man...</td>\n",
       "      <td>1</td>\n",
       "    </tr>\n",
       "    <tr>\n",
       "      <th>3</th>\n",
       "      <td>-1</td>\n",
       "      <td>1467811184</td>\n",
       "      <td>Mon Apr 06 22:19:57 PDT 2009</td>\n",
       "      <td>ElleCTF</td>\n",
       "      <td>my whole body feels itchy and like its on fire</td>\n",
       "      <td>-1</td>\n",
       "    </tr>\n",
       "    <tr>\n",
       "      <th>4</th>\n",
       "      <td>-1</td>\n",
       "      <td>1467811193</td>\n",
       "      <td>Mon Apr 06 22:19:57 PDT 2009</td>\n",
       "      <td>Karoli</td>\n",
       "      <td>@nationwideclass no, it's not behaving at all....</td>\n",
       "      <td>-1</td>\n",
       "    </tr>\n",
       "  </tbody>\n",
       "</table>\n",
       "</div>"
      ],
      "text/plain": [
       "   polarity          id                          date             user  \\\n",
       "0        -1  1467810369  Mon Apr 06 22:19:45 PDT 2009  _TheSpecialOne_   \n",
       "1        -1  1467810672  Mon Apr 06 22:19:49 PDT 2009    scotthamilton   \n",
       "2        -1  1467810917  Mon Apr 06 22:19:53 PDT 2009         mattycus   \n",
       "3        -1  1467811184  Mon Apr 06 22:19:57 PDT 2009          ElleCTF   \n",
       "4        -1  1467811193  Mon Apr 06 22:19:57 PDT 2009           Karoli   \n",
       "\n",
       "                                                text  our_polarity  \n",
       "0  @switchfoot http://twitpic.com/2y1zl - Awww, t...             0  \n",
       "1  is upset that he can't update his Facebook by ...            -1  \n",
       "2  @Kenichan I dived many times for the ball. Man...             1  \n",
       "3    my whole body feels itchy and like its on fire             -1  \n",
       "4  @nationwideclass no, it's not behaving at all....            -1  "
      ]
     },
     "execution_count": 12,
     "metadata": {},
     "output_type": "execute_result"
    }
   ],
   "source": [
    "# %cd ../\n",
    "# from classification.sentimental_analyzer import SentimentalAnalyzer\n",
    "# df = pd.read_csv('../data/training.1600000.processed.noemoticon.csv', encoding='ISO-8859-1',\n",
    "#                   header=None, names=['polarity', 'id', 'date', 'flag', 'user', 'text'])\n",
    "# df = df.drop('flag', axis=1)\n",
    "# df['polarity'] = df['polarity'].apply(lambda x: -1 if x == 0 else (0 if x == 2 else 1))\n",
    "# df.head()\n",
    "# s = SentimentalAnalyzer()\n",
    "# df['our_polarity'] = s.classify_df_parallel(df, 'text')\n",
    "# df.to_csv('./dataset_tweets_general_classified.csv', index=False)"
   ]
  },
  {
   "cell_type": "code",
   "execution_count": 4,
   "metadata": {},
   "outputs": [
    {
     "data": {
      "text/html": [
       "<div>\n",
       "<style scoped>\n",
       "    .dataframe tbody tr th:only-of-type {\n",
       "        vertical-align: middle;\n",
       "    }\n",
       "\n",
       "    .dataframe tbody tr th {\n",
       "        vertical-align: top;\n",
       "    }\n",
       "\n",
       "    .dataframe thead th {\n",
       "        text-align: right;\n",
       "    }\n",
       "</style>\n",
       "<table border=\"1\" class=\"dataframe\">\n",
       "  <thead>\n",
       "    <tr style=\"text-align: right;\">\n",
       "      <th></th>\n",
       "      <th>polarity</th>\n",
       "      <th>id</th>\n",
       "      <th>date</th>\n",
       "      <th>user</th>\n",
       "      <th>text</th>\n",
       "      <th>our_polarity</th>\n",
       "    </tr>\n",
       "  </thead>\n",
       "  <tbody>\n",
       "    <tr>\n",
       "      <th>0</th>\n",
       "      <td>-1</td>\n",
       "      <td>1467810369</td>\n",
       "      <td>Mon Apr 06 22:19:45 PDT 2009</td>\n",
       "      <td>_TheSpecialOne_</td>\n",
       "      <td>@switchfoot http://twitpic.com/2y1zl - Awww, t...</td>\n",
       "      <td>0</td>\n",
       "    </tr>\n",
       "    <tr>\n",
       "      <th>1</th>\n",
       "      <td>-1</td>\n",
       "      <td>1467810672</td>\n",
       "      <td>Mon Apr 06 22:19:49 PDT 2009</td>\n",
       "      <td>scotthamilton</td>\n",
       "      <td>is upset that he can't update his Facebook by ...</td>\n",
       "      <td>-1</td>\n",
       "    </tr>\n",
       "    <tr>\n",
       "      <th>2</th>\n",
       "      <td>-1</td>\n",
       "      <td>1467810917</td>\n",
       "      <td>Mon Apr 06 22:19:53 PDT 2009</td>\n",
       "      <td>mattycus</td>\n",
       "      <td>@Kenichan I dived many times for the ball. Man...</td>\n",
       "      <td>1</td>\n",
       "    </tr>\n",
       "    <tr>\n",
       "      <th>3</th>\n",
       "      <td>-1</td>\n",
       "      <td>1467811184</td>\n",
       "      <td>Mon Apr 06 22:19:57 PDT 2009</td>\n",
       "      <td>ElleCTF</td>\n",
       "      <td>my whole body feels itchy and like its on fire</td>\n",
       "      <td>-1</td>\n",
       "    </tr>\n",
       "    <tr>\n",
       "      <th>4</th>\n",
       "      <td>-1</td>\n",
       "      <td>1467811193</td>\n",
       "      <td>Mon Apr 06 22:19:57 PDT 2009</td>\n",
       "      <td>Karoli</td>\n",
       "      <td>@nationwideclass no, it's not behaving at all....</td>\n",
       "      <td>-1</td>\n",
       "    </tr>\n",
       "  </tbody>\n",
       "</table>\n",
       "</div>"
      ],
      "text/plain": [
       "   polarity          id                          date             user  \\\n",
       "0        -1  1467810369  Mon Apr 06 22:19:45 PDT 2009  _TheSpecialOne_   \n",
       "1        -1  1467810672  Mon Apr 06 22:19:49 PDT 2009    scotthamilton   \n",
       "2        -1  1467810917  Mon Apr 06 22:19:53 PDT 2009         mattycus   \n",
       "3        -1  1467811184  Mon Apr 06 22:19:57 PDT 2009          ElleCTF   \n",
       "4        -1  1467811193  Mon Apr 06 22:19:57 PDT 2009           Karoli   \n",
       "\n",
       "                                                text  our_polarity  \n",
       "0  @switchfoot http://twitpic.com/2y1zl - Awww, t...             0  \n",
       "1  is upset that he can't update his Facebook by ...            -1  \n",
       "2  @Kenichan I dived many times for the ball. Man...             1  \n",
       "3    my whole body feels itchy and like its on fire             -1  \n",
       "4  @nationwideclass no, it's not behaving at all....            -1  "
      ]
     },
     "execution_count": 4,
     "metadata": {},
     "output_type": "execute_result"
    }
   ],
   "source": [
    "df = pd.read_csv('../../data/dataset_tweets_general_classified.csv')\n",
    "df.head()"
   ]
  },
  {
   "cell_type": "code",
   "execution_count": 9,
   "metadata": {},
   "outputs": [
    {
     "data": {
      "text/plain": [
       "329224"
      ]
     },
     "execution_count": 9,
     "metadata": {},
     "output_type": "execute_result"
    }
   ],
   "source": [
    "equal_count = (df['polarity'] == df['our_polarity']).sum()\n",
    "divergence_count = (((df['polarity'] == -1) & (df['our_polarity'] == 1)) | ((df['polarity'] == 1) & (df['our_polarity'] == -1))).sum()\n",
    "neutral_count = (((df['polarity'] == 0) & (df['our_polarity'] == 1)) | \n",
    "                 ((df['polarity'] == 0) & (df['our_polarity'] == -1))|\n",
    "                 ((df['polarity'] == 1) & (df['our_polarity'] == 0)) |\n",
    "                 ((df['polarity'] == -1) & (df['our_polarity'] == 0))).sum()\n"
   ]
  },
  {
   "cell_type": "code",
   "execution_count": 45,
   "metadata": {},
   "outputs": [
    {
     "name": "stdout",
     "output_type": "stream",
     "text": [
      "Equal: 52.42%\n",
      "Divergence: 20.58%\n",
      "Neutral: 27.01%\n",
      "\n",
      "Not divergent: 79.42%\n",
      "\n"
     ]
    }
   ],
   "source": [
    "print(f'\\\n",
    "Equal: {round(equal_count / len(df) * 100, 2)}%\\n\\\n",
    "Divergence: {round(divergence_count / len(df) * 100, 2)}%\\n\\\n",
    "Neutral: {round(neutral_count / len(df) * 100, 2)}%\\n\\n\\\n",
    "Not divergent: {round((equal_count + neutral_count) / len(df) * 100, 2)}%\\n')"
   ]
  },
  {
   "cell_type": "code",
   "execution_count": 53,
   "metadata": {},
   "outputs": [
    {
     "name": "stdout",
     "output_type": "stream",
     "text": [
      "Positive: 46.89%\n",
      "Negative: 26.1%\n",
      "Neutral: 27.01%\n",
      "\n"
     ]
    }
   ],
   "source": [
    "our_polarity_grouped = df['our_polarity'].value_counts()\n",
    "print(f'\\\n",
    "Positive: {round(our_polarity_grouped[1] / len(df) * 100, 2)}%\\n\\\n",
    "Negative: {round(our_polarity_grouped[-1] / len(df) * 100, 2)}%\\n\\\n",
    "Neutral: {round(our_polarity_grouped[0] / len(df) * 100, 2)}%\\n')\n"
   ]
  },
  {
   "cell_type": "code",
   "execution_count": 52,
   "metadata": {},
   "outputs": [
    {
     "name": "stdout",
     "output_type": "stream",
     "text": [
      "Positive: 50.0%\n",
      "Negative: 50.0%\n",
      "\n"
     ]
    }
   ],
   "source": [
    "# não tem neutro\n",
    "polarity_grouped = df['polarity'].value_counts()\n",
    "print(f'\\\n",
    "Positive: {round(polarity_grouped[1] / len(df) * 100, 2)}%\\n\\\n",
    "Negative: {round(polarity_grouped[-1] / len(df) * 100, 2)}%\\n')"
   ]
  }
 ],
 "metadata": {
  "kernelspec": {
   "display_name": "tpICD",
   "language": "python",
   "name": "python3"
  },
  "language_info": {
   "codemirror_mode": {
    "name": "ipython",
    "version": 3
   },
   "file_extension": ".py",
   "mimetype": "text/x-python",
   "name": "python",
   "nbconvert_exporter": "python",
   "pygments_lexer": "ipython3",
   "version": "3.10.11"
  },
  "orig_nbformat": 4
 },
 "nbformat": 4,
 "nbformat_minor": 2
}
