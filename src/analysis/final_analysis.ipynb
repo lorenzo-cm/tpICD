{
 "cells": [
  {
   "cell_type": "code",
   "execution_count": null,
   "metadata": {},
   "outputs": [],
   "source": [
    "import pandas as pd\n",
    "import numpy as np\n",
    "from tqdm import tqdm"
   ]
  },
  {
   "cell_type": "code",
   "execution_count": null,
   "metadata": {},
   "outputs": [],
   "source": [
    "df = pd.read_csv('../../data/df_filtered_lang_classified.csv', dtype={'Likes': str, 'Retweets': str})\n",
    "df = df.drop(['Date', 'Likes', 'Retweets'], axis=1)\n",
    "df"
   ]
  },
  {
   "cell_type": "code",
   "execution_count": null,
   "metadata": {},
   "outputs": [],
   "source": [
    "df['Language'].value_counts()"
   ]
  },
  {
   "cell_type": "code",
   "execution_count": null,
   "metadata": {},
   "outputs": [],
   "source": [
    "df.groupby('Language')['polarity'].sum()/df.groupby('Language')['polarity'].count()"
   ]
  },
  {
   "attachments": {},
   "cell_type": "markdown",
   "metadata": {},
   "source": [
    "#### $H_0$: não há correlação entre idioma e polaridade\n",
    "#### $H_A$: o idioma influencia na polaridade"
   ]
  },
  {
   "cell_type": "code",
   "execution_count": null,
   "metadata": {},
   "outputs": [],
   "source": [
    "def calc_obs(df):\n",
    "    return df.groupby('Language')['polarity'].sum()/df.groupby('Language')['polarity'].count().tolist()"
   ]
  },
  {
   "cell_type": "code",
   "execution_count": null,
   "metadata": {},
   "outputs": [],
   "source": [
    "# lembrar de passar uma cópia de df"
   ]
  },
  {
   "cell_type": "code",
   "execution_count": null,
   "metadata": {},
   "outputs": [],
   "source": [
    "def shuffling(data: pd.DataFrame, col: str, repetitions: int = 5000):\n",
    "    list_obs = []\n",
    "    for i in tqdm(range(repetitions)):\n",
    "        np.random.seed(i)\n",
    "        np.random.shuffle(data[col])\n",
    "        obs: list = calc_obs(data)\n",
    "        list_obs.append(obs)\n",
    "    return list_obs"
   ]
  },
  {
   "cell_type": "code",
   "execution_count": null,
   "metadata": {},
   "outputs": [],
   "source": [
    "df_new = df.copy()\n",
    "df_new"
   ]
  },
  {
   "cell_type": "code",
   "execution_count": null,
   "metadata": {},
   "outputs": [],
   "source": [
    "df_new = df.copy()\n",
    "shuffling(df, 'Language', 5)"
   ]
  }
 ],
 "metadata": {
  "kernelspec": {
   "display_name": "tpICD",
   "language": "python",
   "name": "python3"
  },
  "language_info": {
   "codemirror_mode": {
    "name": "ipython",
    "version": 3
   },
   "file_extension": ".py",
   "mimetype": "text/x-python",
   "name": "python",
   "nbconvert_exporter": "python",
   "pygments_lexer": "ipython3",
   "version": "3.10.11"
  },
  "orig_nbformat": 4
 },
 "nbformat": 4,
 "nbformat_minor": 2
}
