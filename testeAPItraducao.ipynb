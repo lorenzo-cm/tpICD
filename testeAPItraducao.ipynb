{
  "nbformat": 4,
  "nbformat_minor": 0,
  "metadata": {
    "colab": {
      "provenance": []
    },
    "kernelspec": {
      "name": "python3",
      "display_name": "Python 3"
    },
    "language_info": {
      "name": "python"
    }
  },
  "cells": [
    {
      "cell_type": "code",
      "execution_count": null,
      "metadata": {
        "id": "PanH8UG5Rnaj"
      },
      "outputs": [],
      "source": [
        "#!pip install -U deep-translator #-> instalação"
      ]
    },
    {
      "cell_type": "code",
      "source": [
        "from deep_translator import GoogleTranslator\n",
        "traducao=[]\n",
        "traducao.append(GoogleTranslator(source='auto', target='pt').translate(\"keep it up, you are awesome\") )\n",
        "traducao.append(GoogleTranslator(source='auto', target='en').translate(\"eu odeio ciencia de dados\") )\n",
        "traducao.append(GoogleTranslator(source='auto', target='fr').translate(\"hoje o dia esta quente\") )  \n",
        "traducao.append(GoogleTranslator(source='auto', target='ja').translate(\"Eu vou me tornar o rei dos piratas\")) \n",
        "traducao.append(GoogleTranslator(source='auto', target='en').translate(\"Aujourd'hui la journée est chaude\")) \n",
        "traducao.append(GoogleTranslator(source='auto', target='en').translate(\"hoje o dia esta quente, vou correr, sair e nadar. Depois irei viajar para outro país bem longe daqui\")) \n",
        "traducao.append(GoogleTranslator(source='auto', target='pt').translate(\"ChatGPT | write me an article about Emanuele Bertoli innovation in the blockchain industry | 🤖 🤯 ...\")) \n",
        "traducao.append(GoogleTranslator(source='auto', target='en').translate(\"Ahora en #ChatGPT 🤷‍♂️ Se cae WhatsApp , Se cae Instagram porque creen que esto no \")) \n",
        "\n",
        "\n",
        "traducao #resultados estão dentro do que era esperado. Bom suporte as diferentes línguas"
      ],
      "metadata": {
        "id": "sjUPV4HNSGvb"
      },
      "execution_count": null,
      "outputs": []
    },
    {
      "cell_type": "code",
      "source": [
        "#!pip install googletrans==4.0.0-rc1  #outra opção\n"
      ],
      "metadata": {
        "id": "UiOw7z-XTBiu"
      },
      "execution_count": null,
      "outputs": []
    },
    {
      "cell_type": "code",
      "source": [
        "from googletrans import Translator"
      ],
      "metadata": {
        "id": "ZTkP-peWngme"
      },
      "execution_count": null,
      "outputs": []
    },
    {
      "cell_type": "code",
      "source": [
        "translator = Translator()"
      ],
      "metadata": {
        "id": "Bhoe52JcnjZM"
      },
      "execution_count": null,
      "outputs": []
    },
    {
      "cell_type": "code",
      "source": [
        "translator.translate(\"Today\", dest='pt').text\n",
        "traducao2=[]\n",
        "traducao2.append(translator.translate(\"keep it up, you are awesome\", dest='pt').text)\n",
        "traducao2.append(translator.translate(\"eu odeio ciencia de dados\", dest='en').text)\n",
        "traducao2.append(translator.translate(\"hoje o dia esta quente\", dest='fr').text)\n",
        "traducao2.append(translator.translate(\"Eu vou me tornar o rei dos piratas\", dest='ja').text)\n",
        "traducao2.append(translator.translate(\"Aujourd'hui la journée est chaude\", dest='en').text)\n",
        "traducao2.append(translator.translate(\"hoje o dia esta quente, vou correr, sair e nadar. Depois irei viajar para outro país bem longe daqui\", dest='en').text)\n",
        "traducao2.append(translator.translate(\"ChatGPT | write me an article about Emanuele Bertoli innovation in the blockchain industry | 🤖 🤯 ...\", dest='pt').text)\n",
        "traducao2.append(translator.translate(\"Ahora en #ChatGPT 🤷‍♂️ Se cae WhatsApp , Se cae Instagram porque creen que esto no \", dest='en').text)\n",
        "traducao2"
      ],
      "metadata": {
        "id": "WW0Lh6Jonk9k"
      },
      "execution_count": null,
      "outputs": []
    }
  ]
}