{
  "nbformat": 4,
  "nbformat_minor": 0,
  "metadata": {
    "colab": {
      "provenance": []
    },
    "kernelspec": {
      "name": "python3",
      "display_name": "Python 3"
    },
    "language_info": {
      "name": "python"
    }
  },
  "cells": [
    {
      "cell_type": "code",
      "execution_count": 18,
      "metadata": {
        "colab": {
          "base_uri": "https://localhost:8080/"
        },
        "id": "PanH8UG5Rnaj",
        "outputId": "5f9d7fa9-cf75-44da-a2e7-ee8b26170c15"
      },
      "outputs": [
        {
          "output_type": "stream",
          "name": "stdout",
          "text": [
            "Looking in indexes: https://pypi.org/simple, https://us-python.pkg.dev/colab-wheels/public/simple/\n",
            "Collecting deep-translator\n",
            "  Downloading deep_translator-1.11.0-py3-none-any.whl (37 kB)\n",
            "Requirement already satisfied: beautifulsoup4<5.0.0,>=4.9.1 in /usr/local/lib/python3.10/dist-packages (from deep-translator) (4.11.2)\n",
            "Requirement already satisfied: requests<3.0.0,>=2.23.0 in /usr/local/lib/python3.10/dist-packages (from deep-translator) (2.27.1)\n",
            "Requirement already satisfied: soupsieve>1.2 in /usr/local/lib/python3.10/dist-packages (from beautifulsoup4<5.0.0,>=4.9.1->deep-translator) (2.4.1)\n",
            "Requirement already satisfied: urllib3<1.27,>=1.21.1 in /usr/local/lib/python3.10/dist-packages (from requests<3.0.0,>=2.23.0->deep-translator) (1.26.15)\n",
            "Requirement already satisfied: certifi>=2017.4.17 in /usr/local/lib/python3.10/dist-packages (from requests<3.0.0,>=2.23.0->deep-translator) (2022.12.7)\n",
            "Requirement already satisfied: charset-normalizer~=2.0.0 in /usr/local/lib/python3.10/dist-packages (from requests<3.0.0,>=2.23.0->deep-translator) (2.0.12)\n",
            "Requirement already satisfied: idna<4,>=2.5 in /usr/local/lib/python3.10/dist-packages (from requests<3.0.0,>=2.23.0->deep-translator) (2.10)\n",
            "Installing collected packages: deep-translator\n",
            "Successfully installed deep-translator-1.11.0\n"
          ]
        }
      ],
      "source": [
        "#!pip install -U deep-translator #-> instalação"
      ]
    },
    {
      "cell_type": "code",
      "source": [
        "from deep_translator import GoogleTranslator\n",
        "traducao=[]\n",
        "traducao.append(GoogleTranslator(source='auto', target='pt').translate(\"keep it up, you are awesome\") )\n",
        "traducao.append(GoogleTranslator(source='auto', target='en').translate(\"eu odeio ciencia de dados\") )\n",
        "traducao.append(GoogleTranslator(source='auto', target='fr').translate(\"hoje o dia esta quente\") )  \n",
        "traducao.append(GoogleTranslator(source='auto', target='ja').translate(\"Eu vou me tornar o rei dos piratas\")) \n",
        "traducao.append(GoogleTranslator(source='auto', target='en').translate(\"Aujourd'hui la journée est chaude\")) \n",
        "traducao.append(GoogleTranslator(source='auto', target='en').translate(\"hoje o dia esta quente, vou correr, sair e nadar. Depois irei viajar para outro país bem longe daqui\")) \n",
        "traducao.append(GoogleTranslator(source='auto', target='pt').translate(\"ChatGPT | write me an article about Emanuele Bertoli innovation in the blockchain industry | 🤖 🤯 ...\")) \n",
        "traducao.append(GoogleTranslator(source='auto', target='en').translate(\"Ahora en #ChatGPT 🤷‍♂️ Se cae WhatsApp , Se cae Instagram porque creen que esto no \")) \n",
        "\n",
        "\n",
        "traducao #resultados estão dentro do que era esperado. Bom suporte as diferentes línguas"
      ],
      "metadata": {
        "id": "sjUPV4HNSGvb",
        "colab": {
          "base_uri": "https://localhost:8080/"
        },
        "outputId": "0a4aa089-ce84-4664-bae7-b005fb546e6e"
      },
      "execution_count": 24,
      "outputs": [
        {
          "output_type": "execute_result",
          "data": {
            "text/plain": [
              "['continue assim, você é incrível',\n",
              " 'I hate data science',\n",
              " \"Aujourd'hui la journée est chaude\",\n",
              " '海賊王に俺はなる',\n",
              " 'Today is a hot day',\n",
              " \"Today the day is hot, I'm going to run, go out and swim. Then I will travel to another country far away from here\",\n",
              " 'ChatGPT | escreva-me um artigo sobre a inovação de Emanuele Bertoli na indústria de blockchain | 🤖 🤯 ...',\n",
              " 'Now in #ChatGPT 🤷\\u200d♂️ WhatsApp is down, Instagram is down because they think this is not']"
            ]
          },
          "metadata": {},
          "execution_count": 24
        }
      ]
    },
    {
      "cell_type": "code",
      "source": [
        "#!pip install googletrans==4.0.0-rc1  #outra opção\n"
      ],
      "metadata": {
        "id": "UiOw7z-XTBiu",
        "colab": {
          "base_uri": "https://localhost:8080/"
        },
        "outputId": "0e829565-f696-4a1a-99aa-425dc2ad55d1"
      },
      "execution_count": 1,
      "outputs": [
        {
          "output_type": "stream",
          "name": "stdout",
          "text": [
            "Looking in indexes: https://pypi.org/simple, https://us-python.pkg.dev/colab-wheels/public/simple/\n",
            "Collecting googletrans==4.0.0-rc1\n",
            "  Downloading googletrans-4.0.0rc1.tar.gz (20 kB)\n",
            "  Preparing metadata (setup.py) ... \u001b[?25l\u001b[?25hdone\n",
            "Collecting httpx==0.13.3 (from googletrans==4.0.0-rc1)\n",
            "  Downloading httpx-0.13.3-py3-none-any.whl (55 kB)\n",
            "\u001b[2K     \u001b[90m━━━━━━━━━━━━━━━━━━━━━━━━━━━━━━━━━━━━━━━━\u001b[0m \u001b[32m55.1/55.1 kB\u001b[0m \u001b[31m2.7 MB/s\u001b[0m eta \u001b[36m0:00:00\u001b[0m\n",
            "\u001b[?25hRequirement already satisfied: certifi in /usr/local/lib/python3.10/dist-packages (from httpx==0.13.3->googletrans==4.0.0-rc1) (2022.12.7)\n",
            "Collecting hstspreload (from httpx==0.13.3->googletrans==4.0.0-rc1)\n",
            "  Downloading hstspreload-2023.1.1-py3-none-any.whl (1.5 MB)\n",
            "\u001b[2K     \u001b[90m━━━━━━━━━━━━━━━━━━━━━━━━━━━━━━━━━━━━━━━━\u001b[0m \u001b[32m1.5/1.5 MB\u001b[0m \u001b[31m33.6 MB/s\u001b[0m eta \u001b[36m0:00:00\u001b[0m\n",
            "\u001b[?25hRequirement already satisfied: sniffio in /usr/local/lib/python3.10/dist-packages (from httpx==0.13.3->googletrans==4.0.0-rc1) (1.3.0)\n",
            "Collecting chardet==3.* (from httpx==0.13.3->googletrans==4.0.0-rc1)\n",
            "  Downloading chardet-3.0.4-py2.py3-none-any.whl (133 kB)\n",
            "\u001b[2K     \u001b[90m━━━━━━━━━━━━━━━━━━━━━━━━━━━━━━━━━━━━━━\u001b[0m \u001b[32m133.4/133.4 kB\u001b[0m \u001b[31m10.3 MB/s\u001b[0m eta \u001b[36m0:00:00\u001b[0m\n",
            "\u001b[?25hCollecting idna==2.* (from httpx==0.13.3->googletrans==4.0.0-rc1)\n",
            "  Downloading idna-2.10-py2.py3-none-any.whl (58 kB)\n",
            "\u001b[2K     \u001b[90m━━━━━━━━━━━━━━━━━━━━━━━━━━━━━━━━━━━━━━━━\u001b[0m \u001b[32m58.8/58.8 kB\u001b[0m \u001b[31m4.1 MB/s\u001b[0m eta \u001b[36m0:00:00\u001b[0m\n",
            "\u001b[?25hCollecting rfc3986<2,>=1.3 (from httpx==0.13.3->googletrans==4.0.0-rc1)\n",
            "  Downloading rfc3986-1.5.0-py2.py3-none-any.whl (31 kB)\n",
            "Collecting httpcore==0.9.* (from httpx==0.13.3->googletrans==4.0.0-rc1)\n",
            "  Downloading httpcore-0.9.1-py3-none-any.whl (42 kB)\n",
            "\u001b[2K     \u001b[90m━━━━━━━━━━━━━━━━━━━━━━━━━━━━━━━━━━━━━━━━\u001b[0m \u001b[32m42.6/42.6 kB\u001b[0m \u001b[31m1.0 MB/s\u001b[0m eta \u001b[36m0:00:00\u001b[0m\n",
            "\u001b[?25hCollecting h11<0.10,>=0.8 (from httpcore==0.9.*->httpx==0.13.3->googletrans==4.0.0-rc1)\n",
            "  Downloading h11-0.9.0-py2.py3-none-any.whl (53 kB)\n",
            "\u001b[2K     \u001b[90m━━━━━━━━━━━━━━━━━━━━━━━━━━━━━━━━━━━━━━━━\u001b[0m \u001b[32m53.6/53.6 kB\u001b[0m \u001b[31m3.5 MB/s\u001b[0m eta \u001b[36m0:00:00\u001b[0m\n",
            "\u001b[?25hCollecting h2==3.* (from httpcore==0.9.*->httpx==0.13.3->googletrans==4.0.0-rc1)\n",
            "  Downloading h2-3.2.0-py2.py3-none-any.whl (65 kB)\n",
            "\u001b[2K     \u001b[90m━━━━━━━━━━━━━━━━━━━━━━━━━━━━━━━━━━━━━━━━\u001b[0m \u001b[32m65.0/65.0 kB\u001b[0m \u001b[31m2.9 MB/s\u001b[0m eta \u001b[36m0:00:00\u001b[0m\n",
            "\u001b[?25hCollecting hyperframe<6,>=5.2.0 (from h2==3.*->httpcore==0.9.*->httpx==0.13.3->googletrans==4.0.0-rc1)\n",
            "  Downloading hyperframe-5.2.0-py2.py3-none-any.whl (12 kB)\n",
            "Collecting hpack<4,>=3.0 (from h2==3.*->httpcore==0.9.*->httpx==0.13.3->googletrans==4.0.0-rc1)\n",
            "  Downloading hpack-3.0.0-py2.py3-none-any.whl (38 kB)\n",
            "Building wheels for collected packages: googletrans\n",
            "  Building wheel for googletrans (setup.py) ... \u001b[?25l\u001b[?25hdone\n",
            "  Created wheel for googletrans: filename=googletrans-4.0.0rc1-py3-none-any.whl size=17397 sha256=ac43c0bc5de2e546fbd4943b2fda6c55e3c18d0b92197afb523b5f0f1d3c3700\n",
            "  Stored in directory: /root/.cache/pip/wheels/c0/59/9f/7372f0cf70160fe61b528532e1a7c8498c4becd6bcffb022de\n",
            "Successfully built googletrans\n",
            "Installing collected packages: rfc3986, hyperframe, hpack, h11, chardet, idna, hstspreload, h2, httpcore, httpx, googletrans\n",
            "  Attempting uninstall: chardet\n",
            "    Found existing installation: chardet 4.0.0\n",
            "    Uninstalling chardet-4.0.0:\n",
            "      Successfully uninstalled chardet-4.0.0\n",
            "  Attempting uninstall: idna\n",
            "    Found existing installation: idna 3.4\n",
            "    Uninstalling idna-3.4:\n",
            "      Successfully uninstalled idna-3.4\n",
            "Successfully installed chardet-3.0.4 googletrans-4.0.0rc1 h11-0.9.0 h2-3.2.0 hpack-3.0.0 hstspreload-2023.1.1 httpcore-0.9.1 httpx-0.13.3 hyperframe-5.2.0 idna-2.10 rfc3986-1.5.0\n"
          ]
        }
      ]
    },
    {
      "cell_type": "code",
      "source": [
        "from googletrans import Translator"
      ],
      "metadata": {
        "id": "ZTkP-peWngme"
      },
      "execution_count": 2,
      "outputs": []
    },
    {
      "cell_type": "code",
      "source": [
        "translator = Translator()"
      ],
      "metadata": {
        "id": "Bhoe52JcnjZM"
      },
      "execution_count": 21,
      "outputs": []
    },
    {
      "cell_type": "code",
      "source": [
        "translator.translate(\"Today\", dest='pt').text\n",
        "traducao2=[]\n",
        "traducao2.append(translator.translate(\"keep it up, you are awesome\", dest='pt').text)\n",
        "traducao2.append(translator.translate(\"eu odeio ciencia de dados\", dest='en').text)\n",
        "traducao2.append(translator.translate(\"hoje o dia esta quente\", dest='fr').text)\n",
        "traducao2.append(translator.translate(\"Eu vou me tornar o rei dos piratas\", dest='ja').text)\n",
        "traducao2.append(translator.translate(\"Aujourd'hui la journée est chaude\", dest='en').text)\n",
        "traducao2.append(translator.translate(\"hoje o dia esta quente, vou correr, sair e nadar. Depois irei viajar para outro país bem longe daqui\", dest='en').text)\n",
        "traducao2.append(translator.translate(\"ChatGPT | write me an article about Emanuele Bertoli innovation in the blockchain industry | 🤖 🤯 ...\", dest='pt').text)\n",
        "traducao2.append(translator.translate(\"Ahora en #ChatGPT 🤷‍♂️ Se cae WhatsApp , Se cae Instagram porque creen que esto no \", dest='en').text)\n",
        "traducao2"
      ],
      "metadata": {
        "colab": {
          "base_uri": "https://localhost:8080/"
        },
        "id": "WW0Lh6Jonk9k",
        "outputId": "96a3eb72-011f-4931-8f9a-7fc205317f0a"
      },
      "execution_count": 35,
      "outputs": [
        {
          "output_type": "execute_result",
          "data": {
            "text/plain": [
              "['continue assim, você é incrível',\n",
              " 'I hate data science',\n",
              " \"Aujourd'hui, la journée est chaude\",\n",
              " '私は海賊の王になります',\n",
              " 'Today the day is hot',\n",
              " \"Today is hot, I'll run, go out and swim.Then I will travel to another country far from here\",\n",
              " 'Chatgpt |Escreva -me um artigo sobre a inovação emanuele bertoli na indústria de blockchain |🤖 🤯 ...',\n",
              " 'Now in #ChatGPT 🤷\\u200d♂️ WhatsApp falls, Instagram falls because they believe this is not']"
            ]
          },
          "metadata": {},
          "execution_count": 35
        }
      ]
    },
    {
      "cell_type": "code",
      "source": [],
      "metadata": {
        "id": "Xux8w4Zhnq9t"
      },
      "execution_count": null,
      "outputs": []
    }
  ]
}