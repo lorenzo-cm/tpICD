{
 "cells": [
  {
   "cell_type": "code",
   "execution_count": 30,
   "metadata": {},
   "outputs": [],
   "source": [
    "\"\"\"\n",
    "Sample phrases\n",
    "\"\"\"\n",
    "\n",
    "import pandas as pd\n",
    "import seaborn as sns\n",
    "import numpy as np\n",
    "from vaderSentiment.vaderSentiment import SentimentIntensityAnalyzer\n",
    "\n",
    "\n",
    "phrases_list = [\n",
    "    \"The cat jumped over the moon.\",\n",
    "    \"A stitch in time saves nine.\",\n",
    "    \"Two wrongs don't make a right.\",\n",
    "    \"The early bird catches the worm.\",\n",
    "    \"All that glitters is not gold.\",\n",
    "    \"Actions speak louder than words.\",\n",
    "    \"Don't count your chickens before they hatch.\",\n",
    "    \"The pen is mightier than the sword.\",\n",
    "    \"When in Rome, do as the Romans do.\",\n",
    "    \"I have a big hair\"\n",
    "]\n",
    "\n",
    "negative_phrases_list = [\n",
    "    \"This is a disaster!\",\n",
    "    \"I can't stand it anymore.\",\n",
    "    \"Everything is going wrong.\",\n",
    "    \"I'm so frustrated.\",\n",
    "    \"Nothing ever goes my way.\",\n",
    "    \"I feel so miserable.\",\n",
    "    \"I'm completely fed up.\",\n",
    "    \"This is the worst day ever.\",\n",
    "    \"I'm so disappointed.\",\n",
    "    \"I can't catch a break.\"\n",
    "]\n",
    "\n",
    "positive_phrases_list = [\n",
    "    \"You're doing great!\",\n",
    "    \"Keep up the good work!\",\n",
    "    \"You're awesome!\",\n",
    "    \"You're making progress!\",\n",
    "    \"You've got this!\",\n",
    "    \"You're an inspiration!\",\n",
    "    \"You're making a difference!\",\n",
    "    \"You're on the right track!\",\n",
    "    \"You're capable of amazing things!\",\n",
    "    \"You're making it happen!\",\n",
    "]"
   ]
  },
  {
   "cell_type": "code",
   "execution_count": 3,
   "metadata": {},
   "outputs": [],
   "source": [
    "analyzer = SentimentIntensityAnalyzer()\n",
    "    \n",
    "def polarity(phrase : str, analyzer=analyzer)  -> int:\n",
    "    return analyzer.polarity_scores(phrase)['compound']\n",
    "\n",
    "def classify(phrase_or_score : str | float , analyzer=analyzer) -> int:\n",
    "    if isinstance(phrase_or_score, str):\n",
    "        score = analyzer.polarity_scores(phrase_or_score)['compound']\n",
    "    else:\n",
    "        score = phrase_or_score\n",
    "\n",
    "    if score >= 0.05:\n",
    "        return 1\n",
    "    elif score <= -0.05:\n",
    "        return -1\n",
    "    else:\n",
    "        return 0\n"
   ]
  },
  {
   "cell_type": "code",
   "execution_count": 15,
   "metadata": {},
   "outputs": [
    {
     "data": {
      "text/html": [
       "<div>\n",
       "<style scoped>\n",
       "    .dataframe tbody tr th:only-of-type {\n",
       "        vertical-align: middle;\n",
       "    }\n",
       "\n",
       "    .dataframe tbody tr th {\n",
       "        vertical-align: top;\n",
       "    }\n",
       "\n",
       "    .dataframe thead th {\n",
       "        text-align: right;\n",
       "    }\n",
       "</style>\n",
       "<table border=\"1\" class=\"dataframe\">\n",
       "  <thead>\n",
       "    <tr style=\"text-align: right;\">\n",
       "      <th></th>\n",
       "      <th>phrase</th>\n",
       "      <th>label</th>\n",
       "    </tr>\n",
       "  </thead>\n",
       "  <tbody>\n",
       "    <tr>\n",
       "      <th>0</th>\n",
       "      <td>The cat jumped over the moon.</td>\n",
       "      <td>0</td>\n",
       "    </tr>\n",
       "    <tr>\n",
       "      <th>1</th>\n",
       "      <td>A stitch in time saves nine.</td>\n",
       "      <td>0</td>\n",
       "    </tr>\n",
       "    <tr>\n",
       "      <th>2</th>\n",
       "      <td>Two wrongs don't make a right.</td>\n",
       "      <td>0</td>\n",
       "    </tr>\n",
       "    <tr>\n",
       "      <th>3</th>\n",
       "      <td>The early bird catches the worm.</td>\n",
       "      <td>0</td>\n",
       "    </tr>\n",
       "    <tr>\n",
       "      <th>4</th>\n",
       "      <td>All that glitters is not gold.</td>\n",
       "      <td>0</td>\n",
       "    </tr>\n",
       "  </tbody>\n",
       "</table>\n",
       "</div>"
      ],
      "text/plain": [
       "                             phrase  label\n",
       "0     The cat jumped over the moon.      0\n",
       "1      A stitch in time saves nine.      0\n",
       "2    Two wrongs don't make a right.      0\n",
       "3  The early bird catches the worm.      0\n",
       "4    All that glitters is not gold.      0"
      ]
     },
     "execution_count": 15,
     "metadata": {},
     "output_type": "execute_result"
    }
   ],
   "source": [
    "data = pd.DataFrame({'phrase': phrases_list + negative_phrases_list + positive_phrases_list,\n",
    "                     'label': [0]*len(phrases_list) + [-1]*len(negative_phrases_list) + [1]*len(positive_phrases_list)})\n",
    "\n",
    "data.head()"
   ]
  },
  {
   "cell_type": "code",
   "execution_count": 18,
   "metadata": {},
   "outputs": [
    {
     "data": {
      "text/html": [
       "<div>\n",
       "<style scoped>\n",
       "    .dataframe tbody tr th:only-of-type {\n",
       "        vertical-align: middle;\n",
       "    }\n",
       "\n",
       "    .dataframe tbody tr th {\n",
       "        vertical-align: top;\n",
       "    }\n",
       "\n",
       "    .dataframe thead th {\n",
       "        text-align: right;\n",
       "    }\n",
       "</style>\n",
       "<table border=\"1\" class=\"dataframe\">\n",
       "  <thead>\n",
       "    <tr style=\"text-align: right;\">\n",
       "      <th></th>\n",
       "      <th>phrase</th>\n",
       "      <th>label</th>\n",
       "      <th>preds</th>\n",
       "    </tr>\n",
       "  </thead>\n",
       "  <tbody>\n",
       "    <tr>\n",
       "      <th>0</th>\n",
       "      <td>The cat jumped over the moon.</td>\n",
       "      <td>0</td>\n",
       "      <td>0</td>\n",
       "    </tr>\n",
       "    <tr>\n",
       "      <th>1</th>\n",
       "      <td>A stitch in time saves nine.</td>\n",
       "      <td>0</td>\n",
       "      <td>0</td>\n",
       "    </tr>\n",
       "    <tr>\n",
       "      <th>2</th>\n",
       "      <td>Two wrongs don't make a right.</td>\n",
       "      <td>0</td>\n",
       "      <td>0</td>\n",
       "    </tr>\n",
       "    <tr>\n",
       "      <th>3</th>\n",
       "      <td>The early bird catches the worm.</td>\n",
       "      <td>0</td>\n",
       "      <td>0</td>\n",
       "    </tr>\n",
       "    <tr>\n",
       "      <th>4</th>\n",
       "      <td>All that glitters is not gold.</td>\n",
       "      <td>0</td>\n",
       "      <td>0</td>\n",
       "    </tr>\n",
       "  </tbody>\n",
       "</table>\n",
       "</div>"
      ],
      "text/plain": [
       "                             phrase  label  preds\n",
       "0     The cat jumped over the moon.      0      0\n",
       "1      A stitch in time saves nine.      0      0\n",
       "2    Two wrongs don't make a right.      0      0\n",
       "3  The early bird catches the worm.      0      0\n",
       "4    All that glitters is not gold.      0      0"
      ]
     },
     "execution_count": 18,
     "metadata": {},
     "output_type": "execute_result"
    }
   ],
   "source": [
    "data['preds'] = data['phrase'].apply(classify)\n",
    "data.head()"
   ]
  },
  {
   "cell_type": "code",
   "execution_count": 24,
   "metadata": {},
   "outputs": [
    {
     "data": {
      "text/plain": [
       "0.7333333333333333"
      ]
     },
     "execution_count": 24,
     "metadata": {},
     "output_type": "execute_result"
    }
   ],
   "source": [
    "accuracy = (data['label'] == data['preds']).sum() / len(data)\n",
    "accuracy"
   ]
  },
  {
   "attachments": {},
   "cell_type": "markdown",
   "metadata": {},
   "source": [
    "ver a acuracia e ver qual label é mais dificil de ser identificado"
   ]
  },
  {
   "cell_type": "code",
   "execution_count": null,
   "metadata": {},
   "outputs": [],
   "source": [
    "countTrue = 10\n",
    "countPos"
   ]
  },
  {
   "cell_type": "code",
   "execution_count": 27,
   "metadata": {},
   "outputs": [
    {
     "data": {
      "text/plain": [
       "<Axes: xlabel='label', ylabel='preds'>"
      ]
     },
     "execution_count": 27,
     "metadata": {},
     "output_type": "execute_result"
    },
    {
     "data": {
      "image/png": "[encoded data removed]",
      "text/plain": [
       "<Figure size 640x480 with 1 Axes>"
      ]
     },
     "metadata": {},
     "output_type": "display_data"
    }
   ],
   "source": [
    "\n",
    "\n",
    "sns.barplot(x=)"
   ]
  }
 ],
 "metadata": {
  "kernelspec": {
   "display_name": "tpICD",
   "language": "python",
   "name": "python3"
  },
  "language_info": {
   "codemirror_mode": {
    "name": "ipython",
    "version": 3
   },
   "file_extension": ".py",
   "mimetype": "text/x-python",
   "name": "python",
   "nbconvert_exporter": "python",
   "pygments_lexer": "ipython3",
   "version": "3.10.11"
  },
  "orig_nbformat": 4
 },
 "nbformat": 4,
 "nbformat_minor": 2
}
