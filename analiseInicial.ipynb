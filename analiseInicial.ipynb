{
 "cells": [
  {
   "cell_type": "code",
   "execution_count": 100,
   "metadata": {},
   "outputs": [],
   "source": [
    "import pandas as pd\n",
    "import matplotlib.pyplot as plt\n",
    "from deep_translator import GoogleTranslator\n",
    "from vaderSentiment.vaderSentiment import SentimentIntensityAnalyzer"
   ]
  },
  {
   "cell_type": "code",
   "execution_count": 3,
   "metadata": {},
   "outputs": [],
   "source": [
    "df = pd.read_csv('chatgpt_daily_tweets.csv')"
   ]
  },
  {
   "cell_type": "code",
   "execution_count": 4,
   "metadata": {},
   "outputs": [
    {
     "data": {
      "text/html": [
       "<div>\n",
       "<style scoped>\n",
       "    .dataframe tbody tr th:only-of-type {\n",
       "        vertical-align: middle;\n",
       "    }\n",
       "\n",
       "    .dataframe tbody tr th {\n",
       "        vertical-align: top;\n",
       "    }\n",
       "\n",
       "    .dataframe thead th {\n",
       "        text-align: right;\n",
       "    }\n",
       "</style>\n",
       "<table border=\"1\" class=\"dataframe\">\n",
       "  <thead>\n",
       "    <tr style=\"text-align: right;\">\n",
       "      <th></th>\n",
       "      <th>tweet_id</th>\n",
       "      <th>tweet_created</th>\n",
       "      <th>tweet_extracted</th>\n",
       "      <th>text</th>\n",
       "      <th>lang</th>\n",
       "      <th>user_id</th>\n",
       "      <th>user_name</th>\n",
       "      <th>user_username</th>\n",
       "      <th>user_location</th>\n",
       "      <th>user_description</th>\n",
       "      <th>user_created</th>\n",
       "      <th>user_followers_count</th>\n",
       "      <th>user_following_count</th>\n",
       "      <th>user_tweet_count</th>\n",
       "      <th>user_verified</th>\n",
       "      <th>source</th>\n",
       "      <th>retweet_count</th>\n",
       "      <th>like_count</th>\n",
       "      <th>reply_count</th>\n",
       "      <th>impression_count</th>\n",
       "    </tr>\n",
       "  </thead>\n",
       "  <tbody>\n",
       "    <tr>\n",
       "      <th>0</th>\n",
       "      <td>1.642889622681432e+18</td>\n",
       "      <td>2023-04-03 13:59:44+00:00</td>\n",
       "      <td>2023-04-08 01:07:02.538242</td>\n",
       "      <td>RT @jexep: เทคนิคฝึกภาษากับ ChatGPT ที่ผมลอง (...</td>\n",
       "      <td>th</td>\n",
       "      <td>4706577259</td>\n",
       "      <td>👷🏼 ♡ #GOT7</td>\n",
       "      <td>BPawarisa1a</td>\n",
       "      <td>ในใจJacksonwang</td>\n",
       "      <td>@JacksonWang852 ➖ รีวิว #รีวิวแบมพี #แบมพีอัพเ...</td>\n",
       "      <td>2016-01-04 02:27:33+00:00</td>\n",
       "      <td>1293.0</td>\n",
       "      <td>445.0</td>\n",
       "      <td>87051.0</td>\n",
       "      <td>False</td>\n",
       "      <td>NaN</td>\n",
       "      <td>13640.0</td>\n",
       "      <td>0.0</td>\n",
       "      <td>0.0</td>\n",
       "      <td>0.0</td>\n",
       "    </tr>\n",
       "    <tr>\n",
       "      <th>1</th>\n",
       "      <td>1.6428442314496123e+18</td>\n",
       "      <td>2023-04-03 10:59:22+00:00</td>\n",
       "      <td>2023-04-08 01:06:59.379927</td>\n",
       "      <td>ChatGPTをもっと活かせるChrome拡張機能4選 https://t.co/hfacF...</td>\n",
       "      <td>ja</td>\n",
       "      <td>2264288640</td>\n",
       "      <td>ミミズクりんゆ</td>\n",
       "      <td>DRVO_Project</td>\n",
       "      <td>東京←岐阜</td>\n",
       "      <td>料理垢です。ｳｪｯﾌﾞ4年目 発言はファッキン個人の見解 TypeScript/Vue/Re...</td>\n",
       "      <td>2013-12-27 12:39:07+00:00</td>\n",
       "      <td>7878.0</td>\n",
       "      <td>4941.0</td>\n",
       "      <td>76597.0</td>\n",
       "      <td>False</td>\n",
       "      <td>NaN</td>\n",
       "      <td>0.0</td>\n",
       "      <td>0.0</td>\n",
       "      <td>0.0</td>\n",
       "      <td>290.0</td>\n",
       "    </tr>\n",
       "    <tr>\n",
       "      <th>2</th>\n",
       "      <td>1.6427385624866693e+18</td>\n",
       "      <td>2023-04-03 03:59:28+00:00</td>\n",
       "      <td>2023-04-08 01:06:52.504868</td>\n",
       "      <td>RT @DarrellLerner: ChatGPT Plugins are the fas...</td>\n",
       "      <td>en</td>\n",
       "      <td>2383245894</td>\n",
       "      <td>pk</td>\n",
       "      <td>pradeep42329225</td>\n",
       "      <td>India</td>\n",
       "      <td>💐💐।।जय श्री महाकाल।।💐💐</td>\n",
       "      <td>2014-03-11 06:04:10+00:00</td>\n",
       "      <td>269.0</td>\n",
       "      <td>4141.0</td>\n",
       "      <td>3816.0</td>\n",
       "      <td>False</td>\n",
       "      <td>NaN</td>\n",
       "      <td>628.0</td>\n",
       "      <td>0.0</td>\n",
       "      <td>0.0</td>\n",
       "      <td>0.0</td>\n",
       "    </tr>\n",
       "    <tr>\n",
       "      <th>3</th>\n",
       "      <td>1.6429198880616448e+18</td>\n",
       "      <td>2023-04-03 15:59:59+00:00</td>\n",
       "      <td>2023-04-08 01:07:04.742617</td>\n",
       "      <td>Get an intelligent chatbot for your website in...</td>\n",
       "      <td>en</td>\n",
       "      <td>1633040597782081537</td>\n",
       "      <td>AR Leyva</td>\n",
       "      <td>ArrheniusLey</td>\n",
       "      <td>United Kingdom</td>\n",
       "      <td>Passionate about AI and its potential to trans...</td>\n",
       "      <td>2023-03-07 09:43:36+00:00</td>\n",
       "      <td>264.0</td>\n",
       "      <td>24.0</td>\n",
       "      <td>198.0</td>\n",
       "      <td>False</td>\n",
       "      <td>NaN</td>\n",
       "      <td>0.0</td>\n",
       "      <td>0.0</td>\n",
       "      <td>0.0</td>\n",
       "      <td>58.0</td>\n",
       "    </tr>\n",
       "    <tr>\n",
       "      <th>4</th>\n",
       "      <td>1.642708351690711e+18</td>\n",
       "      <td>2023-04-03 01:59:25+00:00</td>\n",
       "      <td>2023-04-08 01:06:50.638068</td>\n",
       "      <td>🔥Hey Guys, #ZenithSwap has launched at just $ ...</td>\n",
       "      <td>en</td>\n",
       "      <td>1311403370670960640</td>\n",
       "      <td>Human Being 🇨🇳🇸🇬🇻🇳</td>\n",
       "      <td>KiarostamiBeing</td>\n",
       "      <td>Chicago, IL</td>\n",
       "      <td>Freedom is the Recognition of Necessity • Mark...</td>\n",
       "      <td>2020-09-30 20:32:00+00:00</td>\n",
       "      <td>447.0</td>\n",
       "      <td>419.0</td>\n",
       "      <td>12949.0</td>\n",
       "      <td>False</td>\n",
       "      <td>NaN</td>\n",
       "      <td>0.0</td>\n",
       "      <td>0.0</td>\n",
       "      <td>0.0</td>\n",
       "      <td>0.0</td>\n",
       "    </tr>\n",
       "  </tbody>\n",
       "</table>\n",
       "</div>"
      ],
      "text/plain": [
       "                 tweet_id              tweet_created  \\\n",
       "0   1.642889622681432e+18  2023-04-03 13:59:44+00:00   \n",
       "1  1.6428442314496123e+18  2023-04-03 10:59:22+00:00   \n",
       "2  1.6427385624866693e+18  2023-04-03 03:59:28+00:00   \n",
       "3  1.6429198880616448e+18  2023-04-03 15:59:59+00:00   \n",
       "4   1.642708351690711e+18  2023-04-03 01:59:25+00:00   \n",
       "\n",
       "              tweet_extracted  \\\n",
       "0  2023-04-08 01:07:02.538242   \n",
       "1  2023-04-08 01:06:59.379927   \n",
       "2  2023-04-08 01:06:52.504868   \n",
       "3  2023-04-08 01:07:04.742617   \n",
       "4  2023-04-08 01:06:50.638068   \n",
       "\n",
       "                                                text lang  \\\n",
       "0  RT @jexep: เทคนิคฝึกภาษากับ ChatGPT ที่ผมลอง (...   th   \n",
       "1  ChatGPTをもっと活かせるChrome拡張機能4選 https://t.co/hfacF...   ja   \n",
       "2  RT @DarrellLerner: ChatGPT Plugins are the fas...   en   \n",
       "3  Get an intelligent chatbot for your website in...   en   \n",
       "4  🔥Hey Guys, #ZenithSwap has launched at just $ ...   en   \n",
       "\n",
       "               user_id           user_name    user_username    user_location  \\\n",
       "0           4706577259          👷🏼 ♡ #GOT7      BPawarisa1a  ในใจJacksonwang   \n",
       "1           2264288640             ミミズクりんゆ     DRVO_Project            東京←岐阜   \n",
       "2           2383245894                  pk  pradeep42329225            India   \n",
       "3  1633040597782081537            AR Leyva     ArrheniusLey   United Kingdom   \n",
       "4  1311403370670960640  Human Being 🇨🇳🇸🇬🇻🇳  KiarostamiBeing      Chicago, IL   \n",
       "\n",
       "                                    user_description  \\\n",
       "0  @JacksonWang852 ➖ รีวิว #รีวิวแบมพี #แบมพีอัพเ...   \n",
       "1  料理垢です。ｳｪｯﾌﾞ4年目 発言はファッキン個人の見解 TypeScript/Vue/Re...   \n",
       "2                             💐💐।।जय श्री महाकाल।।💐💐   \n",
       "3  Passionate about AI and its potential to trans...   \n",
       "4  Freedom is the Recognition of Necessity • Mark...   \n",
       "\n",
       "                user_created  user_followers_count  user_following_count  \\\n",
       "0  2016-01-04 02:27:33+00:00                1293.0                 445.0   \n",
       "1  2013-12-27 12:39:07+00:00                7878.0                4941.0   \n",
       "2  2014-03-11 06:04:10+00:00                 269.0                4141.0   \n",
       "3  2023-03-07 09:43:36+00:00                 264.0                  24.0   \n",
       "4  2020-09-30 20:32:00+00:00                 447.0                 419.0   \n",
       "\n",
       "   user_tweet_count user_verified  source  retweet_count  like_count  \\\n",
       "0           87051.0         False     NaN        13640.0         0.0   \n",
       "1           76597.0         False     NaN            0.0         0.0   \n",
       "2            3816.0         False     NaN          628.0         0.0   \n",
       "3             198.0         False     NaN            0.0         0.0   \n",
       "4           12949.0         False     NaN            0.0         0.0   \n",
       "\n",
       "   reply_count  impression_count  \n",
       "0          0.0               0.0  \n",
       "1          0.0             290.0  \n",
       "2          0.0               0.0  \n",
       "3          0.0              58.0  \n",
       "4          0.0               0.0  "
      ]
     },
     "execution_count": 4,
     "metadata": {},
     "output_type": "execute_result"
    }
   ],
   "source": [
    "df.head()"
   ]
  },
  {
   "cell_type": "code",
   "execution_count": 8,
   "metadata": {},
   "outputs": [
    {
     "data": {
      "text/plain": [
       "tweet_id                 object\n",
       "tweet_created            object\n",
       "tweet_extracted          object\n",
       "text                     object\n",
       "lang                     object\n",
       "user_id                  object\n",
       "user_name                object\n",
       "user_username            object\n",
       "user_location            object\n",
       "user_description         object\n",
       "user_created             object\n",
       "user_followers_count    float64\n",
       "user_following_count    float64\n",
       "user_tweet_count        float64\n",
       "user_verified            object\n",
       "source                  float64\n",
       "retweet_count           float64\n",
       "like_count              float64\n",
       "reply_count             float64\n",
       "impression_count        float64\n",
       "dtype: object"
      ]
     },
     "execution_count": 8,
     "metadata": {},
     "output_type": "execute_result"
    }
   ],
   "source": [
    "df.dtypes"
   ]
  },
  {
   "cell_type": "code",
   "execution_count": 25,
   "metadata": {},
   "outputs": [],
   "source": [
    "df_relevante = df.query(\"like_count > 0\") #selecionando tweets com pelo menos uma curtida\n"
   ]
  },
  {
   "attachments": {},
   "cell_type": "markdown",
   "metadata": {},
   "source": [
    "**Note quantos tweets existem sem nenhum like, muito provavelmente criados por bots**"
   ]
  },
  {
   "cell_type": "code",
   "execution_count": 29,
   "metadata": {},
   "outputs": [
    {
     "name": "stdout",
     "output_type": "stream",
     "text": [
      "6824\n",
      "66375\n"
     ]
    }
   ],
   "source": [
    "print(len(df_relevante))\n",
    "print(len(df))"
   ]
  },
  {
   "cell_type": "code",
   "execution_count": 47,
   "metadata": {},
   "outputs": [],
   "source": [
    "df_relevante = df_relevante.drop(columns=['tweet_extracted', 'tweet_id', 'user_description', 'user_created', 'user_followers_count', 'user_following_count', 'source', 'user_tweet_count', 'user_verified', 'user_id', 'user_name', 'user_username'])\n",
    "#limpando o df\n",
    "df_relevante.head()"
   ]
  },
  {
   "cell_type": "code",
   "execution_count": 39,
   "metadata": {},
   "outputs": [],
   "source": [
    "def traduzir(tweet):\n",
    "    return GoogleTranslator(source='auto', target='en').translate(tweet)\n",
    "#função para traduzir o tweet"
   ]
  },
  {
   "cell_type": "code",
   "execution_count": 49,
   "metadata": {},
   "outputs": [],
   "source": [
    "df_100 = df_relevante.head(100)\n",
    "#df com as 100 primeiras linhas"
   ]
  },
  {
   "cell_type": "code",
   "execution_count": 50,
   "metadata": {},
   "outputs": [
    {
     "name": "stderr",
     "output_type": "stream",
     "text": [
      "C:\\Users\\victo\\AppData\\Local\\Temp\\ipykernel_26224\\2886981343.py:1: SettingWithCopyWarning: \n",
      "A value is trying to be set on a copy of a slice from a DataFrame.\n",
      "Try using .loc[row_indexer,col_indexer] = value instead\n",
      "\n",
      "See the caveats in the documentation: https://pandas.pydata.org/pandas-docs/stable/user_guide/indexing.html#returning-a-view-versus-a-copy\n",
      "  df_100['traduzido'] = df_100['text'].apply(traduzir)\n"
     ]
    }
   ],
   "source": [
    "df_100['traduzido'] = df_100['text'].apply(traduzir)\n",
    "#cria coluna nova traduzida para ingles"
   ]
  },
  {
   "cell_type": "code",
   "execution_count": 77,
   "metadata": {},
   "outputs": [],
   "source": [
    "analyzer = SentimentIntensityAnalyzer()\n",
    "def analisar(tweet, tipo):\n",
    "    result = analyzer.polarity_scores(tweet)\n",
    "    return result[tipo]\n",
    "#função para analise de sentimento dos tweets"
   ]
  },
  {
   "cell_type": "code",
   "execution_count": 78,
   "metadata": {},
   "outputs": [
    {
     "name": "stderr",
     "output_type": "stream",
     "text": [
      "C:\\Users\\victo\\AppData\\Local\\Temp\\ipykernel_26224\\2578934603.py:1: SettingWithCopyWarning: \n",
      "A value is trying to be set on a copy of a slice from a DataFrame.\n",
      "Try using .loc[row_indexer,col_indexer] = value instead\n",
      "\n",
      "See the caveats in the documentation: https://pandas.pydata.org/pandas-docs/stable/user_guide/indexing.html#returning-a-view-versus-a-copy\n",
      "  df_100['neg'] = df_100['traduzido'].apply(lambda x: analisar(x, 'neg'))\n",
      "C:\\Users\\victo\\AppData\\Local\\Temp\\ipykernel_26224\\2578934603.py:2: SettingWithCopyWarning: \n",
      "A value is trying to be set on a copy of a slice from a DataFrame.\n",
      "Try using .loc[row_indexer,col_indexer] = value instead\n",
      "\n",
      "See the caveats in the documentation: https://pandas.pydata.org/pandas-docs/stable/user_guide/indexing.html#returning-a-view-versus-a-copy\n",
      "  df_100['pos'] = df_100['traduzido'].apply(lambda x: analisar(x, 'pos'))\n",
      "C:\\Users\\victo\\AppData\\Local\\Temp\\ipykernel_26224\\2578934603.py:3: SettingWithCopyWarning: \n",
      "A value is trying to be set on a copy of a slice from a DataFrame.\n",
      "Try using .loc[row_indexer,col_indexer] = value instead\n",
      "\n",
      "See the caveats in the documentation: https://pandas.pydata.org/pandas-docs/stable/user_guide/indexing.html#returning-a-view-versus-a-copy\n",
      "  df_100['neu'] = df_100['traduzido'].apply(lambda x: analisar(x, 'neu'))\n"
     ]
    }
   ],
   "source": [
    "df_100['neg'] = df_100['traduzido'].apply(lambda x: analisar(x, 'neg'))\n",
    "df_100['pos'] = df_100['traduzido'].apply(lambda x: analisar(x, 'pos'))\n",
    "df_100['neu'] = df_100['traduzido'].apply(lambda x: analisar(x, 'neu'))\n",
    "\n",
    "##cria colunas para os sentimentos da coluna traduzida\n"
   ]
  },
  {
   "cell_type": "code",
   "execution_count": 86,
   "metadata": {},
   "outputs": [
    {
     "data": {
      "text/html": [
       "<div>\n",
       "<style scoped>\n",
       "    .dataframe tbody tr th:only-of-type {\n",
       "        vertical-align: middle;\n",
       "    }\n",
       "\n",
       "    .dataframe tbody tr th {\n",
       "        vertical-align: top;\n",
       "    }\n",
       "\n",
       "    .dataframe thead th {\n",
       "        text-align: right;\n",
       "    }\n",
       "</style>\n",
       "<table border=\"1\" class=\"dataframe\">\n",
       "  <thead>\n",
       "    <tr style=\"text-align: right;\">\n",
       "      <th></th>\n",
       "      <th>tweet_created</th>\n",
       "      <th>text</th>\n",
       "      <th>lang</th>\n",
       "      <th>user_location</th>\n",
       "      <th>retweet_count</th>\n",
       "      <th>like_count</th>\n",
       "      <th>reply_count</th>\n",
       "      <th>impression_count</th>\n",
       "      <th>traduzido</th>\n",
       "      <th>neg</th>\n",
       "      <th>pos</th>\n",
       "      <th>neu</th>\n",
       "    </tr>\n",
       "  </thead>\n",
       "  <tbody>\n",
       "    <tr>\n",
       "      <th>660</th>\n",
       "      <td>2023-04-03 17:59:56+00:00</td>\n",
       "      <td>@axel_yoh @paulinenjoroge Chatgpt seen. Says a...</td>\n",
       "      <td>en</td>\n",
       "      <td>All over Africa, mostly</td>\n",
       "      <td>0.0</td>\n",
       "      <td>1.0</td>\n",
       "      <td>0.0</td>\n",
       "      <td>303.0</td>\n",
       "      <td>@axel_yoh @paulinenjoroge Chatgpt seen. Says a...</td>\n",
       "      <td>0.097</td>\n",
       "      <td>0.000</td>\n",
       "      <td>0.903</td>\n",
       "    </tr>\n",
       "    <tr>\n",
       "      <th>662</th>\n",
       "      <td>2023-04-03 02:59:36+00:00</td>\n",
       "      <td>I’m really depressed. I gave GPT4 some of the ...</td>\n",
       "      <td>en</td>\n",
       "      <td>NaN</td>\n",
       "      <td>0.0</td>\n",
       "      <td>23.0</td>\n",
       "      <td>10.0</td>\n",
       "      <td>3711.0</td>\n",
       "      <td>I’m really depressed. I gave GPT4 some of the ...</td>\n",
       "      <td>0.040</td>\n",
       "      <td>0.268</td>\n",
       "      <td>0.693</td>\n",
       "    </tr>\n",
       "    <tr>\n",
       "      <th>672</th>\n",
       "      <td>2023-04-03 15:59:29+00:00</td>\n",
       "      <td>If ChatGPT writes code for you, is it owned by...</td>\n",
       "      <td>en</td>\n",
       "      <td>Pittsburgh, PA</td>\n",
       "      <td>0.0</td>\n",
       "      <td>2.0</td>\n",
       "      <td>0.0</td>\n",
       "      <td>46.0</td>\n",
       "      <td>If ChatGPT writes code for you, is it owned by...</td>\n",
       "      <td>0.000</td>\n",
       "      <td>0.000</td>\n",
       "      <td>1.000</td>\n",
       "    </tr>\n",
       "    <tr>\n",
       "      <th>673</th>\n",
       "      <td>2023-04-03 22:59:06+00:00</td>\n",
       "      <td>ChatGPTがもっと進化すれば議員の大半がいらなくなるって聞いた。\\n夢のような世界だわ…...</td>\n",
       "      <td>ja</td>\n",
       "      <td>NaN</td>\n",
       "      <td>0.0</td>\n",
       "      <td>4.0</td>\n",
       "      <td>1.0</td>\n",
       "      <td>316.0</td>\n",
       "      <td>I heard that if ChatGPT evolves more, most of ...</td>\n",
       "      <td>0.000</td>\n",
       "      <td>0.108</td>\n",
       "      <td>0.892</td>\n",
       "    </tr>\n",
       "    <tr>\n",
       "      <th>675</th>\n",
       "      <td>2023-04-03 21:59:32+00:00</td>\n",
       "      <td>@amyglobalkids I'm thinking about demonstratin...</td>\n",
       "      <td>en</td>\n",
       "      <td>Milford, NJ</td>\n",
       "      <td>0.0</td>\n",
       "      <td>1.0</td>\n",
       "      <td>1.0</td>\n",
       "      <td>46.0</td>\n",
       "      <td>@amyglobalkids I'm thinking about demonstratin...</td>\n",
       "      <td>0.000</td>\n",
       "      <td>0.250</td>\n",
       "      <td>0.750</td>\n",
       "    </tr>\n",
       "  </tbody>\n",
       "</table>\n",
       "</div>"
      ],
      "text/plain": [
       "                 tweet_created  \\\n",
       "660  2023-04-03 17:59:56+00:00   \n",
       "662  2023-04-03 02:59:36+00:00   \n",
       "672  2023-04-03 15:59:29+00:00   \n",
       "673  2023-04-03 22:59:06+00:00   \n",
       "675  2023-04-03 21:59:32+00:00   \n",
       "\n",
       "                                                  text lang  \\\n",
       "660  @axel_yoh @paulinenjoroge Chatgpt seen. Says a...   en   \n",
       "662  I’m really depressed. I gave GPT4 some of the ...   en   \n",
       "672  If ChatGPT writes code for you, is it owned by...   en   \n",
       "673  ChatGPTがもっと進化すれば議員の大半がいらなくなるって聞いた。\\n夢のような世界だわ…...   ja   \n",
       "675  @amyglobalkids I'm thinking about demonstratin...   en   \n",
       "\n",
       "               user_location  retweet_count  like_count  reply_count  \\\n",
       "660  All over Africa, mostly            0.0         1.0          0.0   \n",
       "662                      NaN            0.0        23.0         10.0   \n",
       "672           Pittsburgh, PA            0.0         2.0          0.0   \n",
       "673                      NaN            0.0         4.0          1.0   \n",
       "675              Milford, NJ            0.0         1.0          1.0   \n",
       "\n",
       "     impression_count                                          traduzido  \\\n",
       "660             303.0  @axel_yoh @paulinenjoroge Chatgpt seen. Says a...   \n",
       "662            3711.0  I’m really depressed. I gave GPT4 some of the ...   \n",
       "672              46.0  If ChatGPT writes code for you, is it owned by...   \n",
       "673             316.0  I heard that if ChatGPT evolves more, most of ...   \n",
       "675              46.0  @amyglobalkids I'm thinking about demonstratin...   \n",
       "\n",
       "       neg    pos    neu  \n",
       "660  0.097  0.000  0.903  \n",
       "662  0.040  0.268  0.693  \n",
       "672  0.000  0.000  1.000  \n",
       "673  0.000  0.108  0.892  \n",
       "675  0.000  0.250  0.750  "
      ]
     },
     "execution_count": 86,
     "metadata": {},
     "output_type": "execute_result"
    }
   ],
   "source": [
    "df_100.tail()"
   ]
  },
  {
   "cell_type": "code",
   "execution_count": 110,
   "metadata": {},
   "outputs": [],
   "source": [
    "df_novo = df_relevante.groupby('lang').count()[['text']].reset_index().rename(columns={'text': 'quantidade'})\n",
    "#cria um df com a quantidade de cada lingua\n",
    "#usa o df maior, não traduzido\n"
   ]
  },
  {
   "cell_type": "code",
   "execution_count": 126,
   "metadata": {},
   "outputs": [],
   "source": [
    "df_novo = df_novo.sort_values('quantidade', ascending = False)\n",
    "df_novo = df_novo.query('quantidade >= 50')\n",
    "#ordena as quantidades e tira as linguas com menos de 50 tweets"
   ]
  },
  {
   "cell_type": "code",
   "execution_count": 127,
   "metadata": {},
   "outputs": [
    {
     "data": {
      "image/png": "[encoded data removed]",
      "text/plain": [
       "<Figure size 640x480 with 1 Axes>"
      ]
     },
     "metadata": {},
     "output_type": "display_data"
    }
   ],
   "source": [
    "plt.bar(df_novo['lang'], df_novo['quantidade'])\n",
    "plt.xlabel('Lingua')\n",
    "plt.ylabel('quantiadade')\n",
    "plt.title('Quantidade por lingua')\n",
    "plt.show()\n"
   ]
  }
 ],
 "metadata": {
  "kernelspec": {
   "display_name": "tpICD",
   "language": "python",
   "name": "python3"
  },
  "language_info": {
   "codemirror_mode": {
    "name": "ipython",
    "version": 3
   },
   "file_extension": ".py",
   "mimetype": "text/x-python",
   "name": "python",
   "nbconvert_exporter": "python",
   "pygments_lexer": "ipython3",
   "version": "3.10.11"
  },
  "orig_nbformat": 4
 },
 "nbformat": 4,
 "nbformat_minor": 2
}
